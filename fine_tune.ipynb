{
  "cells": [
    {
      "cell_type": "markdown",
      "source": [
        "# Fine-Tuning OpenAI Models\n",
        "Teaching recipes to GPT-4o-mini"
      ],
      "metadata": {
        "id": "b79uXwLQp2gR"
      },
      "id": "b79uXwLQp2gR"
    },
    {
      "cell_type": "markdown",
      "source": [
        "## Setup"
      ],
      "metadata": {
        "id": "tdMNS5UUI6xV"
      },
      "id": "tdMNS5UUI6xV"
    },
    {
      "cell_type": "code",
      "source": [
        "#install stuff\n",
        "!pip install --quiet openai python-dotenv"
      ],
      "metadata": {
        "id": "IKZEgBsivO7M"
      },
      "id": "IKZEgBsivO7M",
      "execution_count": 1,
      "outputs": []
    },
    {
      "cell_type": "code",
      "source": [
        "#get course repo\n",
        "!git clone https://github.com/keuperj/LLM_Tutorial_URAI24.git"
      ],
      "metadata": {
        "colab": {
          "base_uri": "https://localhost:8080/"
        },
        "id": "q61zpkEIp_T-",
        "outputId": "5e58a8f5-6094-4a0c-ec44-46cf6beb4f7a"
      },
      "id": "q61zpkEIp_T-",
      "execution_count": 2,
      "outputs": [
        {
          "output_type": "stream",
          "name": "stdout",
          "text": [
            "Cloning into 'LLM_Tutorial_URAI24'...\n",
            "remote: Enumerating objects: 35, done.\u001b[K\n",
            "remote: Counting objects: 100% (35/35), done.\u001b[K\n",
            "remote: Compressing objects: 100% (30/30), done.\u001b[K\n",
            "remote: Total 35 (delta 14), reused 14 (delta 4), pack-reused 0 (from 0)\u001b[K\n",
            "Receiving objects: 100% (35/35), 4.33 MiB | 6.49 MiB/s, done.\n",
            "Resolving deltas: 100% (14/14), done.\n"
          ]
        }
      ]
    },
    {
      "cell_type": "code",
      "source": [
        "#go to tutorial directory\n",
        "%cd LLM_Tutorial_URAI24"
      ],
      "metadata": {
        "colab": {
          "base_uri": "https://localhost:8080/"
        },
        "id": "x2xs_6PZqXnm",
        "outputId": "d4e0c4e4-dbaa-4548-be3e-4365b02e3e4b"
      },
      "id": "x2xs_6PZqXnm",
      "execution_count": 3,
      "outputs": [
        {
          "output_type": "stream",
          "name": "stdout",
          "text": [
            "/content/LLM_Tutorial_URAI24\n"
          ]
        }
      ]
    },
    {
      "cell_type": "code",
      "source": [
        "#read OpenAI key from encrypted file to environment variable\n",
        "#replace PASSWORD with the real password\n",
        "#!echo PASSWORD | gpg --batch --yes --passphrase-fd 0 env.gpg\n",
        "!echo PASSWORD | gpg --batch --yes --passphrase-fd 0 env.gpg\n",
        "!mv env .env"
      ],
      "metadata": {
        "colab": {
          "base_uri": "https://localhost:8080/"
        },
        "id": "TxJGZPFsqm84",
        "outputId": "5fe5fc8a-9cae-4d02-f738-4f30e2ce0de4"
      },
      "id": "TxJGZPFsqm84",
      "execution_count": 5,
      "outputs": [
        {
          "output_type": "stream",
          "name": "stdout",
          "text": [
            "gpg: WARNING: no command supplied.  Trying to guess what you mean ...\n",
            "gpg: AES256.CFB encrypted data\n",
            "gpg: encrypted with 1 passphrase\n"
          ]
        }
      ]
    },
    {
      "cell_type": "code",
      "source": [
        "#load key into openAI API\n",
        "import os\n",
        "from os.path import join, dirname\n",
        "import openai\n",
        "from dotenv import load_dotenv, find_dotenv\n",
        "load_dotenv(find_dotenv())\n",
        "openai.api_key=os.environ[\"OPENAI_API_KEY\"]"
      ],
      "metadata": {
        "id": "7vMuQtitvIQO"
      },
      "id": "7vMuQtitvIQO",
      "execution_count": 6,
      "outputs": []
    },
    {
      "cell_type": "code",
      "source": [
        "#print(openai.api_key) #for debug only"
      ],
      "metadata": {
        "id": "bts2hYIrs2mn"
      },
      "id": "bts2hYIrs2mn",
      "execution_count": null,
      "outputs": []
    },
    {
      "cell_type": "markdown",
      "id": "7bcdad0e-b67c-4927-b00e-3a4d950cd8ce",
      "metadata": {
        "id": "7bcdad0e-b67c-4927-b00e-3a4d950cd8ce"
      },
      "source": [
        "# How to fine-tune chat models\n",
        "\n",
        "Fine-tuning improves the model by training on many more examples than can fit in a prompt, letting you achieve better results on a wide number of tasks. This notebook provides a step-by-step guide for our new GPT-4o mini fine-tuning. We'll perform entity extraction using the [RecipeNLG dataset](https://github.com/Glorf/recipenlg), which provides various recipes and a list of extracted generic ingredients for each. This is a common dataset for named entity recognition (NER) tasks.\n",
        "\n",
        "We will go through the following steps:\n",
        "\n",
        "1. **Setup:** Loading our dataset and filtering down to one domain to fine-tune on.\n",
        "2. **Data preparation:** Preparing your data for fine-tuning by creating training and validation examples, and uploading them to the `Files` endpoint.\n",
        "3. **Fine-tuning:** Creating your fine-tuned model.\n",
        "4. **Inference:** Using your fine-tuned model for inference on new inputs.\n",
        "\n",
        "By the end of this you should be able to train, evaluate and deploy a fine-tuned `gpt-4o-mini-2024-07-18` model.\n",
        "\n",
        "For more information on fine-tuning, you can refer to our [documentation guide](https://platform.openai.com/docs/guides/fine-tuning) or [API reference](https://platform.openai.com/docs/api-reference/fine-tuning).\n"
      ]
    },
    {
      "cell_type": "markdown",
      "id": "6f49cb10-f895-41f4-aa97-da606d0084d4",
      "metadata": {
        "id": "6f49cb10-f895-41f4-aa97-da606d0084d4"
      },
      "source": [
        "## Setup\n"
      ]
    },
    {
      "cell_type": "code",
      "execution_count": 7,
      "id": "6e1f4403-37e1-4115-a215-12fd7daa1eb6",
      "metadata": {
        "id": "6e1f4403-37e1-4115-a215-12fd7daa1eb6"
      },
      "outputs": [],
      "source": [
        "import json\n",
        "import openai\n",
        "import os\n",
        "import pandas as pd\n",
        "from pprint import pprint\n",
        "\n",
        "client = openai.OpenAI(\n",
        "    api_key=os.environ.get(\"OPENAI_API_KEY\"),\n",
        ")"
      ]
    },
    {
      "cell_type": "markdown",
      "id": "a468d660",
      "metadata": {
        "id": "a468d660"
      },
      "source": [
        "Fine-tuning works best when focused on a particular domain. It's important to make sure your dataset is both focused enough for the model to learn, but general enough that unseen examples won't be missed. Having this in mind, we have extracted a subset from the RecipesNLG dataset to only contain documents from [cookbooks.com](https://cookbooks.com/).\n"
      ]
    },
    {
      "cell_type": "code",
      "execution_count": 8,
      "id": "f57ebc23-14b7-47f9-90b8-1d791ccfc9bc",
      "metadata": {
        "colab": {
          "base_uri": "https://localhost:8080/",
          "height": 400
        },
        "id": "f57ebc23-14b7-47f9-90b8-1d791ccfc9bc",
        "outputId": "14733d88-c108-4368-d414-b299f6494b89"
      },
      "outputs": [
        {
          "output_type": "execute_result",
          "data": {
            "text/plain": [
              "                   title                                        ingredients  \\\n",
              "0    No-Bake Nut Cookies  [\"1 c. firmly packed brown sugar\", \"1/2 c. eva...   \n",
              "1  Jewell Ball'S Chicken  [\"1 small jar chipped beef, cut up\", \"4 boned ...   \n",
              "2            Creamy Corn  [\"2 (16 oz.) pkg. frozen corn\", \"1 (8 oz.) pkg...   \n",
              "3          Chicken Funny  [\"1 large whole chicken\", \"2 (10 1/2 oz.) cans...   \n",
              "4   Reeses Cups(Candy)    [\"1 c. peanut butter\", \"3/4 c. graham cracker ...   \n",
              "\n",
              "                                          directions  \\\n",
              "0  [\"In a heavy 2-quart saucepan, mix brown sugar...   \n",
              "1  [\"Place chipped beef on bottom of baking dish....   \n",
              "2  [\"In a slow cooker, combine all ingredients. C...   \n",
              "3  [\"Boil and debone chicken.\", \"Put bite size pi...   \n",
              "4  [\"Combine first four ingredients and press in ...   \n",
              "\n",
              "                                              link             source  \\\n",
              "0   www.cookbooks.com/Recipe-Details.aspx?id=44874  www.cookbooks.com   \n",
              "1  www.cookbooks.com/Recipe-Details.aspx?id=699419  www.cookbooks.com   \n",
              "2   www.cookbooks.com/Recipe-Details.aspx?id=10570  www.cookbooks.com   \n",
              "3  www.cookbooks.com/Recipe-Details.aspx?id=897570  www.cookbooks.com   \n",
              "4  www.cookbooks.com/Recipe-Details.aspx?id=659239  www.cookbooks.com   \n",
              "\n",
              "                                                 NER  \n",
              "0  [\"brown sugar\", \"milk\", \"vanilla\", \"nuts\", \"bu...  \n",
              "1  [\"beef\", \"chicken breasts\", \"cream of mushroom...  \n",
              "2  [\"frozen corn\", \"cream cheese\", \"butter\", \"gar...  \n",
              "3  [\"chicken\", \"chicken gravy\", \"cream of mushroo...  \n",
              "4  [\"peanut butter\", \"graham cracker crumbs\", \"bu...  "
            ],
            "text/html": [
              "\n",
              "  <div id=\"df-2f95c730-1a97-4b92-b8f2-381ab693efcb\" class=\"colab-df-container\">\n",
              "    <div>\n",
              "<style scoped>\n",
              "    .dataframe tbody tr th:only-of-type {\n",
              "        vertical-align: middle;\n",
              "    }\n",
              "\n",
              "    .dataframe tbody tr th {\n",
              "        vertical-align: top;\n",
              "    }\n",
              "\n",
              "    .dataframe thead th {\n",
              "        text-align: right;\n",
              "    }\n",
              "</style>\n",
              "<table border=\"1\" class=\"dataframe\">\n",
              "  <thead>\n",
              "    <tr style=\"text-align: right;\">\n",
              "      <th></th>\n",
              "      <th>title</th>\n",
              "      <th>ingredients</th>\n",
              "      <th>directions</th>\n",
              "      <th>link</th>\n",
              "      <th>source</th>\n",
              "      <th>NER</th>\n",
              "    </tr>\n",
              "  </thead>\n",
              "  <tbody>\n",
              "    <tr>\n",
              "      <th>0</th>\n",
              "      <td>No-Bake Nut Cookies</td>\n",
              "      <td>[\"1 c. firmly packed brown sugar\", \"1/2 c. eva...</td>\n",
              "      <td>[\"In a heavy 2-quart saucepan, mix brown sugar...</td>\n",
              "      <td>www.cookbooks.com/Recipe-Details.aspx?id=44874</td>\n",
              "      <td>www.cookbooks.com</td>\n",
              "      <td>[\"brown sugar\", \"milk\", \"vanilla\", \"nuts\", \"bu...</td>\n",
              "    </tr>\n",
              "    <tr>\n",
              "      <th>1</th>\n",
              "      <td>Jewell Ball'S Chicken</td>\n",
              "      <td>[\"1 small jar chipped beef, cut up\", \"4 boned ...</td>\n",
              "      <td>[\"Place chipped beef on bottom of baking dish....</td>\n",
              "      <td>www.cookbooks.com/Recipe-Details.aspx?id=699419</td>\n",
              "      <td>www.cookbooks.com</td>\n",
              "      <td>[\"beef\", \"chicken breasts\", \"cream of mushroom...</td>\n",
              "    </tr>\n",
              "    <tr>\n",
              "      <th>2</th>\n",
              "      <td>Creamy Corn</td>\n",
              "      <td>[\"2 (16 oz.) pkg. frozen corn\", \"1 (8 oz.) pkg...</td>\n",
              "      <td>[\"In a slow cooker, combine all ingredients. C...</td>\n",
              "      <td>www.cookbooks.com/Recipe-Details.aspx?id=10570</td>\n",
              "      <td>www.cookbooks.com</td>\n",
              "      <td>[\"frozen corn\", \"cream cheese\", \"butter\", \"gar...</td>\n",
              "    </tr>\n",
              "    <tr>\n",
              "      <th>3</th>\n",
              "      <td>Chicken Funny</td>\n",
              "      <td>[\"1 large whole chicken\", \"2 (10 1/2 oz.) cans...</td>\n",
              "      <td>[\"Boil and debone chicken.\", \"Put bite size pi...</td>\n",
              "      <td>www.cookbooks.com/Recipe-Details.aspx?id=897570</td>\n",
              "      <td>www.cookbooks.com</td>\n",
              "      <td>[\"chicken\", \"chicken gravy\", \"cream of mushroo...</td>\n",
              "    </tr>\n",
              "    <tr>\n",
              "      <th>4</th>\n",
              "      <td>Reeses Cups(Candy)</td>\n",
              "      <td>[\"1 c. peanut butter\", \"3/4 c. graham cracker ...</td>\n",
              "      <td>[\"Combine first four ingredients and press in ...</td>\n",
              "      <td>www.cookbooks.com/Recipe-Details.aspx?id=659239</td>\n",
              "      <td>www.cookbooks.com</td>\n",
              "      <td>[\"peanut butter\", \"graham cracker crumbs\", \"bu...</td>\n",
              "    </tr>\n",
              "  </tbody>\n",
              "</table>\n",
              "</div>\n",
              "    <div class=\"colab-df-buttons\">\n",
              "\n",
              "  <div class=\"colab-df-container\">\n",
              "    <button class=\"colab-df-convert\" onclick=\"convertToInteractive('df-2f95c730-1a97-4b92-b8f2-381ab693efcb')\"\n",
              "            title=\"Convert this dataframe to an interactive table.\"\n",
              "            style=\"display:none;\">\n",
              "\n",
              "  <svg xmlns=\"http://www.w3.org/2000/svg\" height=\"24px\" viewBox=\"0 -960 960 960\">\n",
              "    <path d=\"M120-120v-720h720v720H120Zm60-500h600v-160H180v160Zm220 220h160v-160H400v160Zm0 220h160v-160H400v160ZM180-400h160v-160H180v160Zm440 0h160v-160H620v160ZM180-180h160v-160H180v160Zm440 0h160v-160H620v160Z\"/>\n",
              "  </svg>\n",
              "    </button>\n",
              "\n",
              "  <style>\n",
              "    .colab-df-container {\n",
              "      display:flex;\n",
              "      gap: 12px;\n",
              "    }\n",
              "\n",
              "    .colab-df-convert {\n",
              "      background-color: #E8F0FE;\n",
              "      border: none;\n",
              "      border-radius: 50%;\n",
              "      cursor: pointer;\n",
              "      display: none;\n",
              "      fill: #1967D2;\n",
              "      height: 32px;\n",
              "      padding: 0 0 0 0;\n",
              "      width: 32px;\n",
              "    }\n",
              "\n",
              "    .colab-df-convert:hover {\n",
              "      background-color: #E2EBFA;\n",
              "      box-shadow: 0px 1px 2px rgba(60, 64, 67, 0.3), 0px 1px 3px 1px rgba(60, 64, 67, 0.15);\n",
              "      fill: #174EA6;\n",
              "    }\n",
              "\n",
              "    .colab-df-buttons div {\n",
              "      margin-bottom: 4px;\n",
              "    }\n",
              "\n",
              "    [theme=dark] .colab-df-convert {\n",
              "      background-color: #3B4455;\n",
              "      fill: #D2E3FC;\n",
              "    }\n",
              "\n",
              "    [theme=dark] .colab-df-convert:hover {\n",
              "      background-color: #434B5C;\n",
              "      box-shadow: 0px 1px 3px 1px rgba(0, 0, 0, 0.15);\n",
              "      filter: drop-shadow(0px 1px 2px rgba(0, 0, 0, 0.3));\n",
              "      fill: #FFFFFF;\n",
              "    }\n",
              "  </style>\n",
              "\n",
              "    <script>\n",
              "      const buttonEl =\n",
              "        document.querySelector('#df-2f95c730-1a97-4b92-b8f2-381ab693efcb button.colab-df-convert');\n",
              "      buttonEl.style.display =\n",
              "        google.colab.kernel.accessAllowed ? 'block' : 'none';\n",
              "\n",
              "      async function convertToInteractive(key) {\n",
              "        const element = document.querySelector('#df-2f95c730-1a97-4b92-b8f2-381ab693efcb');\n",
              "        const dataTable =\n",
              "          await google.colab.kernel.invokeFunction('convertToInteractive',\n",
              "                                                    [key], {});\n",
              "        if (!dataTable) return;\n",
              "\n",
              "        const docLinkHtml = 'Like what you see? Visit the ' +\n",
              "          '<a target=\"_blank\" href=https://colab.research.google.com/notebooks/data_table.ipynb>data table notebook</a>'\n",
              "          + ' to learn more about interactive tables.';\n",
              "        element.innerHTML = '';\n",
              "        dataTable['output_type'] = 'display_data';\n",
              "        await google.colab.output.renderOutput(dataTable, element);\n",
              "        const docLink = document.createElement('div');\n",
              "        docLink.innerHTML = docLinkHtml;\n",
              "        element.appendChild(docLink);\n",
              "      }\n",
              "    </script>\n",
              "  </div>\n",
              "\n",
              "\n",
              "<div id=\"df-1151f6a9-08c7-4a93-a47c-3ab7ce29fa43\">\n",
              "  <button class=\"colab-df-quickchart\" onclick=\"quickchart('df-1151f6a9-08c7-4a93-a47c-3ab7ce29fa43')\"\n",
              "            title=\"Suggest charts\"\n",
              "            style=\"display:none;\">\n",
              "\n",
              "<svg xmlns=\"http://www.w3.org/2000/svg\" height=\"24px\"viewBox=\"0 0 24 24\"\n",
              "     width=\"24px\">\n",
              "    <g>\n",
              "        <path d=\"M19 3H5c-1.1 0-2 .9-2 2v14c0 1.1.9 2 2 2h14c1.1 0 2-.9 2-2V5c0-1.1-.9-2-2-2zM9 17H7v-7h2v7zm4 0h-2V7h2v10zm4 0h-2v-4h2v4z\"/>\n",
              "    </g>\n",
              "</svg>\n",
              "  </button>\n",
              "\n",
              "<style>\n",
              "  .colab-df-quickchart {\n",
              "      --bg-color: #E8F0FE;\n",
              "      --fill-color: #1967D2;\n",
              "      --hover-bg-color: #E2EBFA;\n",
              "      --hover-fill-color: #174EA6;\n",
              "      --disabled-fill-color: #AAA;\n",
              "      --disabled-bg-color: #DDD;\n",
              "  }\n",
              "\n",
              "  [theme=dark] .colab-df-quickchart {\n",
              "      --bg-color: #3B4455;\n",
              "      --fill-color: #D2E3FC;\n",
              "      --hover-bg-color: #434B5C;\n",
              "      --hover-fill-color: #FFFFFF;\n",
              "      --disabled-bg-color: #3B4455;\n",
              "      --disabled-fill-color: #666;\n",
              "  }\n",
              "\n",
              "  .colab-df-quickchart {\n",
              "    background-color: var(--bg-color);\n",
              "    border: none;\n",
              "    border-radius: 50%;\n",
              "    cursor: pointer;\n",
              "    display: none;\n",
              "    fill: var(--fill-color);\n",
              "    height: 32px;\n",
              "    padding: 0;\n",
              "    width: 32px;\n",
              "  }\n",
              "\n",
              "  .colab-df-quickchart:hover {\n",
              "    background-color: var(--hover-bg-color);\n",
              "    box-shadow: 0 1px 2px rgba(60, 64, 67, 0.3), 0 1px 3px 1px rgba(60, 64, 67, 0.15);\n",
              "    fill: var(--button-hover-fill-color);\n",
              "  }\n",
              "\n",
              "  .colab-df-quickchart-complete:disabled,\n",
              "  .colab-df-quickchart-complete:disabled:hover {\n",
              "    background-color: var(--disabled-bg-color);\n",
              "    fill: var(--disabled-fill-color);\n",
              "    box-shadow: none;\n",
              "  }\n",
              "\n",
              "  .colab-df-spinner {\n",
              "    border: 2px solid var(--fill-color);\n",
              "    border-color: transparent;\n",
              "    border-bottom-color: var(--fill-color);\n",
              "    animation:\n",
              "      spin 1s steps(1) infinite;\n",
              "  }\n",
              "\n",
              "  @keyframes spin {\n",
              "    0% {\n",
              "      border-color: transparent;\n",
              "      border-bottom-color: var(--fill-color);\n",
              "      border-left-color: var(--fill-color);\n",
              "    }\n",
              "    20% {\n",
              "      border-color: transparent;\n",
              "      border-left-color: var(--fill-color);\n",
              "      border-top-color: var(--fill-color);\n",
              "    }\n",
              "    30% {\n",
              "      border-color: transparent;\n",
              "      border-left-color: var(--fill-color);\n",
              "      border-top-color: var(--fill-color);\n",
              "      border-right-color: var(--fill-color);\n",
              "    }\n",
              "    40% {\n",
              "      border-color: transparent;\n",
              "      border-right-color: var(--fill-color);\n",
              "      border-top-color: var(--fill-color);\n",
              "    }\n",
              "    60% {\n",
              "      border-color: transparent;\n",
              "      border-right-color: var(--fill-color);\n",
              "    }\n",
              "    80% {\n",
              "      border-color: transparent;\n",
              "      border-right-color: var(--fill-color);\n",
              "      border-bottom-color: var(--fill-color);\n",
              "    }\n",
              "    90% {\n",
              "      border-color: transparent;\n",
              "      border-bottom-color: var(--fill-color);\n",
              "    }\n",
              "  }\n",
              "</style>\n",
              "\n",
              "  <script>\n",
              "    async function quickchart(key) {\n",
              "      const quickchartButtonEl =\n",
              "        document.querySelector('#' + key + ' button');\n",
              "      quickchartButtonEl.disabled = true;  // To prevent multiple clicks.\n",
              "      quickchartButtonEl.classList.add('colab-df-spinner');\n",
              "      try {\n",
              "        const charts = await google.colab.kernel.invokeFunction(\n",
              "            'suggestCharts', [key], {});\n",
              "      } catch (error) {\n",
              "        console.error('Error during call to suggestCharts:', error);\n",
              "      }\n",
              "      quickchartButtonEl.classList.remove('colab-df-spinner');\n",
              "      quickchartButtonEl.classList.add('colab-df-quickchart-complete');\n",
              "    }\n",
              "    (() => {\n",
              "      let quickchartButtonEl =\n",
              "        document.querySelector('#df-1151f6a9-08c7-4a93-a47c-3ab7ce29fa43 button');\n",
              "      quickchartButtonEl.style.display =\n",
              "        google.colab.kernel.accessAllowed ? 'block' : 'none';\n",
              "    })();\n",
              "  </script>\n",
              "</div>\n",
              "\n",
              "    </div>\n",
              "  </div>\n"
            ],
            "application/vnd.google.colaboratory.intrinsic+json": {
              "type": "dataframe",
              "variable_name": "recipe_df",
              "summary": "{\n  \"name\": \"recipe_df\",\n  \"rows\": 10000,\n  \"fields\": [\n    {\n      \"column\": \"title\",\n      \"properties\": {\n        \"dtype\": \"string\",\n        \"num_unique_values\": 7194,\n        \"samples\": [\n          \"Strawberry Shake\",\n          \"Pumpkin Chiffon Cake\",\n          \"Black Bean Salad\"\n        ],\n        \"semantic_type\": \"\",\n        \"description\": \"\"\n      }\n    },\n    {\n      \"column\": \"ingredients\",\n      \"properties\": {\n        \"dtype\": \"string\",\n        \"num_unique_values\": 9999,\n        \"samples\": [\n          \"[\\\"2 sticks margarine\\\", \\\"1/2 c. sugar\\\", \\\"graham crackers\\\", \\\"chopped nuts\\\", \\\"Hershey bars\\\"]\",\n          \"[\\\"2 c. coarsely chopped pretzels\\\", \\\"3/4 c. melted margarine\\\", \\\"2 Tbsp. sugar\\\", \\\"8 oz. cream cheese, softened\\\", \\\"8 oz. whipped topping\\\", \\\"1/2 c. sugar\\\", \\\"1 large pkg. strawberry jello\\\", \\\"2 c. boiling water\\\", \\\"2 (10 oz.) pkg. frozen strawberries\\\"]\",\n          \"[\\\"4 (6 oz.) boneless, skinned chicken breasts\\\", \\\"3 Tbsp. flour\\\", \\\"1 Tbsp. curry powder\\\", \\\"4 Tbsp. oil\\\", \\\"1 Tbsp. sugar\\\", \\\"2 chicken bouillon cubes\\\", \\\"1 c. water\\\", \\\"16 oz. can apricots\\\", \\\"1/2 c. chopped onion\\\", \\\"1 c. sliced mushrooms\\\", \\\"2 Tbsp. soy sauce\\\", \\\"2 Tbsp. lemon juice\\\"]\"\n        ],\n        \"semantic_type\": \"\",\n        \"description\": \"\"\n      }\n    },\n    {\n      \"column\": \"directions\",\n      \"properties\": {\n        \"dtype\": \"string\",\n        \"num_unique_values\": 9989,\n        \"samples\": [\n          \"[\\\"Adjust oven rack to lowest position.\\\", \\\"Preheat oven to 350\\\\u00b0. In food processor with steel blade, combine flour, salt and Crisco; pulse about 6 seconds, until mixture resembles coarse crumbs.\\\", \\\"Add milk and process until dough forms a ball.\\\", \\\"Continue processing 2 minutes.\\\", \\\"On floured surface, roll dough into rectangle 1/4-inch thick.\\\", \\\"Fold dough in half, pressing lightly. With a 1 1/2-inch biscuit cutter, cut out dough and place on cookie sheet.\\\", \\\"Re-roll scraps and repeat, cutting more biscuits. Prick each biscuit with a fork.\\\", \\\"Bake 30 to 35 minutes, until pale golden.\\\", \\\"Turn off oven, leave biscuits in oven for 35 minutes. Makes about 2 1/2 dozen.\\\", \\\"Contains 100 calories each.\\\"]\",\n          \"[\\\"Cream the margarine, cream cheese and sugar.\\\", \\\"Add eggs and vanilla; beat well.\\\", \\\"Sift together the flour, baking powder, baking soda and salt.\\\", \\\"Add alternately with milk, mixing well after each addition. Pour into a greased and floured 13 x 9-inch pan.\\\", \\\"Sprinkle with crumb topping.\\\", \\\"Bake at 350\\\\u00b0 for 35 to 40 minutes.\\\"]\",\n          \"[\\\"Mix in pan the sugar, cornstarch and salt. Stir milk in gradually. Cook, stirring constantly, until mixture boils.\\\", \\\"Remove from heat.\\\", \\\"Stir in vanilla.\\\"]\"\n        ],\n        \"semantic_type\": \"\",\n        \"description\": \"\"\n      }\n    },\n    {\n      \"column\": \"link\",\n      \"properties\": {\n        \"dtype\": \"string\",\n        \"num_unique_values\": 10000,\n        \"samples\": [\n          \"www.cookbooks.com/Recipe-Details.aspx?id=1062310\",\n          \"www.cookbooks.com/Recipe-Details.aspx?id=217349\",\n          \"www.cookbooks.com/Recipe-Details.aspx?id=1018986\"\n        ],\n        \"semantic_type\": \"\",\n        \"description\": \"\"\n      }\n    },\n    {\n      \"column\": \"source\",\n      \"properties\": {\n        \"dtype\": \"category\",\n        \"num_unique_values\": 1,\n        \"samples\": [\n          \"www.cookbooks.com\"\n        ],\n        \"semantic_type\": \"\",\n        \"description\": \"\"\n      }\n    },\n    {\n      \"column\": \"NER\",\n      \"properties\": {\n        \"dtype\": \"string\",\n        \"num_unique_values\": 9953,\n        \"samples\": [\n          \"[\\\"egg\\\", \\\"celery\\\", \\\"potatoes\\\", \\\"pimentos\\\", \\\"onions\\\", \\\"yogurt\\\", \\\"mustard\\\", \\\"salt\\\"]\"\n        ],\n        \"semantic_type\": \"\",\n        \"description\": \"\"\n      }\n    }\n  ]\n}"
            }
          },
          "metadata": {},
          "execution_count": 8
        }
      ],
      "source": [
        "# Read in the dataset we'll use for this task.\n",
        "# This will be the RecipesNLG dataset, which we've cleaned to only contain documents from www.cookbooks.com\n",
        "recipe_df = pd.read_csv(\"data/cookbook_recipes_nlg_10k.csv\")\n",
        "\n",
        "recipe_df.head()"
      ]
    },
    {
      "cell_type": "markdown",
      "id": "2b3151e9-8715-47bd-a153-195d6a0d0a70",
      "metadata": {
        "id": "2b3151e9-8715-47bd-a153-195d6a0d0a70"
      },
      "source": [
        "## Data preparation\n",
        "\n",
        "We'll begin by preparing our data. When fine-tuning with the `ChatCompletion` format, each training example is a simple list of `messages`. For example, an entry could look like:\n",
        "\n",
        "```\n",
        "[{'role': 'system',\n",
        "  'content': 'You are a helpful recipe assistant. You are to extract the generic ingredients from each of the recipes provided.'},\n",
        "\n",
        " {'role': 'user',\n",
        "  'content': 'Title: No-Bake Nut Cookies\\n\\nIngredients: [\"1 c. firmly packed brown sugar\", \"1/2 c. evaporated milk\", \"1/2 tsp. vanilla\", \"1/2 c. broken nuts (pecans)\", \"2 Tbsp. butter or margarine\", \"3 1/2 c. bite size shredded rice biscuits\"]\\n\\nGeneric ingredients: '},\n",
        "\n",
        " {'role': 'assistant',\n",
        "  'content': '[\"brown sugar\", \"milk\", \"vanilla\", \"nuts\", \"butter\", \"bite size shredded rice biscuits\"]'}]\n",
        "```\n",
        "\n",
        "During the training process this conversation will be split, with the final entry being the `completion` that the model will produce, and the remainder of the `messages` acting as the prompt. Consider this when building your training examples - if your model will act on multi-turn conversations, then please provide representative examples so it doesn't perform poorly when the conversation starts to expand.\n",
        "\n",
        "Please note that currently there is a 4096 token limit for each training example. Anything longer than this will be truncated at 4096 tokens.\n"
      ]
    },
    {
      "cell_type": "code",
      "execution_count": 9,
      "id": "9a8216b0-d1dc-472d-b07d-1be03acd70a5",
      "metadata": {
        "colab": {
          "base_uri": "https://localhost:8080/"
        },
        "id": "9a8216b0-d1dc-472d-b07d-1be03acd70a5",
        "outputId": "daa28e8c-1b62-4bb5-8f04-cdb924300568"
      },
      "outputs": [
        {
          "output_type": "stream",
          "name": "stdout",
          "text": [
            "{'messages': [{'content': 'You are a helpful recipe assistant. You are to '\n",
            "                          'extract the generic ingredients from each of the '\n",
            "                          'recipes provided.',\n",
            "               'role': 'system'},\n",
            "              {'content': 'Title: No-Bake Nut Cookies\\n'\n",
            "                          '\\n'\n",
            "                          'Ingredients: [\"1 c. firmly packed brown sugar\", '\n",
            "                          '\"1/2 c. evaporated milk\", \"1/2 tsp. vanilla\", \"1/2 '\n",
            "                          'c. broken nuts (pecans)\", \"2 Tbsp. butter or '\n",
            "                          'margarine\", \"3 1/2 c. bite size shredded rice '\n",
            "                          'biscuits\"]\\n'\n",
            "                          '\\n'\n",
            "                          'Generic ingredients: ',\n",
            "               'role': 'user'},\n",
            "              {'content': '[\"brown sugar\", \"milk\", \"vanilla\", \"nuts\", '\n",
            "                          '\"butter\", \"bite size shredded rice biscuits\"]',\n",
            "               'role': 'assistant'}]}\n"
          ]
        }
      ],
      "source": [
        "system_message = \"You are a helpful recipe assistant. You are to extract the generic ingredients from each of the recipes provided.\"\n",
        "\n",
        "\n",
        "def create_user_message(row):\n",
        "    return f\"Title: {row['title']}\\n\\nIngredients: {row['ingredients']}\\n\\nGeneric ingredients: \"\n",
        "\n",
        "\n",
        "def prepare_example_conversation(row):\n",
        "    return {\n",
        "        \"messages\": [\n",
        "            {\"role\": \"system\", \"content\": system_message},\n",
        "            {\"role\": \"user\", \"content\": create_user_message(row)},\n",
        "            {\"role\": \"assistant\", \"content\": row[\"NER\"]},\n",
        "        ]\n",
        "    }\n",
        "\n",
        "\n",
        "pprint(prepare_example_conversation(recipe_df.iloc[0]))"
      ]
    },
    {
      "cell_type": "markdown",
      "id": "82fa4fae",
      "metadata": {
        "id": "82fa4fae"
      },
      "source": [
        "Let's now do this for a subset of the dataset to use as our training data. You can begin with even 30-50 well-pruned examples. You should see performance continue to scale linearly as you increase the size of the training set, but your jobs will also take longer.\n"
      ]
    },
    {
      "cell_type": "code",
      "execution_count": 10,
      "id": "8f37aff9",
      "metadata": {
        "colab": {
          "base_uri": "https://localhost:8080/"
        },
        "id": "8f37aff9",
        "outputId": "0335e162-c35b-402c-bbf9-3b8186c15d8b"
      },
      "outputs": [
        {
          "output_type": "stream",
          "name": "stdout",
          "text": [
            "{'messages': [{'role': 'system', 'content': 'You are a helpful recipe assistant. You are to extract the generic ingredients from each of the recipes provided.'}, {'role': 'user', 'content': 'Title: No-Bake Nut Cookies\\n\\nIngredients: [\"1 c. firmly packed brown sugar\", \"1/2 c. evaporated milk\", \"1/2 tsp. vanilla\", \"1/2 c. broken nuts (pecans)\", \"2 Tbsp. butter or margarine\", \"3 1/2 c. bite size shredded rice biscuits\"]\\n\\nGeneric ingredients: '}, {'role': 'assistant', 'content': '[\"brown sugar\", \"milk\", \"vanilla\", \"nuts\", \"butter\", \"bite size shredded rice biscuits\"]'}]}\n",
            "{'messages': [{'role': 'system', 'content': 'You are a helpful recipe assistant. You are to extract the generic ingredients from each of the recipes provided.'}, {'role': 'user', 'content': 'Title: Jewell Ball\\'S Chicken\\n\\nIngredients: [\"1 small jar chipped beef, cut up\", \"4 boned chicken breasts\", \"1 can cream of mushroom soup\", \"1 carton sour cream\"]\\n\\nGeneric ingredients: '}, {'role': 'assistant', 'content': '[\"beef\", \"chicken breasts\", \"cream of mushroom soup\", \"sour cream\"]'}]}\n",
            "{'messages': [{'role': 'system', 'content': 'You are a helpful recipe assistant. You are to extract the generic ingredients from each of the recipes provided.'}, {'role': 'user', 'content': 'Title: Creamy Corn\\n\\nIngredients: [\"2 (16 oz.) pkg. frozen corn\", \"1 (8 oz.) pkg. cream cheese, cubed\", \"1/3 c. butter, cubed\", \"1/2 tsp. garlic powder\", \"1/2 tsp. salt\", \"1/4 tsp. pepper\"]\\n\\nGeneric ingredients: '}, {'role': 'assistant', 'content': '[\"frozen corn\", \"cream cheese\", \"butter\", \"garlic powder\", \"salt\", \"pepper\"]'}]}\n",
            "{'messages': [{'role': 'system', 'content': 'You are a helpful recipe assistant. You are to extract the generic ingredients from each of the recipes provided.'}, {'role': 'user', 'content': 'Title: Chicken Funny\\n\\nIngredients: [\"1 large whole chicken\", \"2 (10 1/2 oz.) cans chicken gravy\", \"1 (10 1/2 oz.) can cream of mushroom soup\", \"1 (6 oz.) box Stove Top stuffing\", \"4 oz. shredded cheese\"]\\n\\nGeneric ingredients: '}, {'role': 'assistant', 'content': '[\"chicken\", \"chicken gravy\", \"cream of mushroom soup\", \"shredded cheese\"]'}]}\n",
            "{'messages': [{'role': 'system', 'content': 'You are a helpful recipe assistant. You are to extract the generic ingredients from each of the recipes provided.'}, {'role': 'user', 'content': 'Title: Reeses Cups(Candy)  \\n\\nIngredients: [\"1 c. peanut butter\", \"3/4 c. graham cracker crumbs\", \"1 c. melted butter\", \"1 lb. (3 1/2 c.) powdered sugar\", \"1 large pkg. chocolate chips\"]\\n\\nGeneric ingredients: '}, {'role': 'assistant', 'content': '[\"peanut butter\", \"graham cracker crumbs\", \"butter\", \"powdered sugar\", \"chocolate chips\"]'}]}\n"
          ]
        }
      ],
      "source": [
        "# use the first 100 rows of the dataset for training\n",
        "training_df = recipe_df.loc[0:100]\n",
        "\n",
        "# apply the prepare_example_conversation function to each row of the training_df\n",
        "training_data = training_df.apply(prepare_example_conversation, axis=1).tolist()\n",
        "\n",
        "for example in training_data[:5]:\n",
        "    print(example)"
      ]
    },
    {
      "cell_type": "markdown",
      "id": "6fb0f6a7",
      "metadata": {
        "id": "6fb0f6a7"
      },
      "source": [
        "In addition to training data, we can also **optionally** provide validation data, which will be used to make sure that the model does not overfit your training set.\n"
      ]
    },
    {
      "cell_type": "code",
      "execution_count": 11,
      "id": "5b853efa-dfea-4770-ab88-9b7e17794421",
      "metadata": {
        "id": "5b853efa-dfea-4770-ab88-9b7e17794421"
      },
      "outputs": [],
      "source": [
        "validation_df = recipe_df.loc[101:200]\n",
        "validation_data = validation_df.apply(\n",
        "    prepare_example_conversation, axis=1).tolist()"
      ]
    },
    {
      "cell_type": "markdown",
      "id": "1d5e7bfe-f6c8-4a23-a951-3df3f3791d7f",
      "metadata": {
        "id": "1d5e7bfe-f6c8-4a23-a951-3df3f3791d7f"
      },
      "source": [
        "We then need to save our data as `.jsonl` files, with each line being one training example conversation.\n"
      ]
    },
    {
      "cell_type": "code",
      "execution_count": 12,
      "id": "8d2eb207-2c2b-43f6-a613-64a7e92d494d",
      "metadata": {
        "id": "8d2eb207-2c2b-43f6-a613-64a7e92d494d"
      },
      "outputs": [],
      "source": [
        "def write_jsonl(data_list: list, filename: str) -> None:\n",
        "    with open(filename, \"w\") as out:\n",
        "        for ddict in data_list:\n",
        "            jout = json.dumps(ddict) + \"\\n\"\n",
        "            out.write(jout)"
      ]
    },
    {
      "cell_type": "code",
      "execution_count": 13,
      "id": "8b53e7a2-1cac-4c5f-8ba4-3292ba2a0770",
      "metadata": {
        "id": "8b53e7a2-1cac-4c5f-8ba4-3292ba2a0770"
      },
      "outputs": [],
      "source": [
        "training_file_name = \"tmp_recipe_finetune_training.jsonl\"\n",
        "write_jsonl(training_data, training_file_name)\n",
        "\n",
        "validation_file_name = \"tmp_recipe_finetune_validation.jsonl\"\n",
        "write_jsonl(validation_data, validation_file_name)"
      ]
    },
    {
      "cell_type": "markdown",
      "id": "80b274a3",
      "metadata": {
        "id": "80b274a3"
      },
      "source": [
        "This is what the first 5 lines of our training `.jsonl` file look like:\n"
      ]
    },
    {
      "cell_type": "code",
      "execution_count": 14,
      "id": "283c4ec2",
      "metadata": {
        "colab": {
          "base_uri": "https://localhost:8080/"
        },
        "id": "283c4ec2",
        "outputId": "11e7c454-27af-497a-fde3-596d31304bdd"
      },
      "outputs": [
        {
          "output_type": "stream",
          "name": "stdout",
          "text": [
            "{\"messages\": [{\"role\": \"system\", \"content\": \"You are a helpful recipe assistant. You are to extract the generic ingredients from each of the recipes provided.\"}, {\"role\": \"user\", \"content\": \"Title: No-Bake Nut Cookies\\n\\nIngredients: [\\\"1 c. firmly packed brown sugar\\\", \\\"1/2 c. evaporated milk\\\", \\\"1/2 tsp. vanilla\\\", \\\"1/2 c. broken nuts (pecans)\\\", \\\"2 Tbsp. butter or margarine\\\", \\\"3 1/2 c. bite size shredded rice biscuits\\\"]\\n\\nGeneric ingredients: \"}, {\"role\": \"assistant\", \"content\": \"[\\\"brown sugar\\\", \\\"milk\\\", \\\"vanilla\\\", \\\"nuts\\\", \\\"butter\\\", \\\"bite size shredded rice biscuits\\\"]\"}]}\n",
            "{\"messages\": [{\"role\": \"system\", \"content\": \"You are a helpful recipe assistant. You are to extract the generic ingredients from each of the recipes provided.\"}, {\"role\": \"user\", \"content\": \"Title: Jewell Ball'S Chicken\\n\\nIngredients: [\\\"1 small jar chipped beef, cut up\\\", \\\"4 boned chicken breasts\\\", \\\"1 can cream of mushroom soup\\\", \\\"1 carton sour cream\\\"]\\n\\nGeneric ingredients: \"}, {\"role\": \"assistant\", \"content\": \"[\\\"beef\\\", \\\"chicken breasts\\\", \\\"cream of mushroom soup\\\", \\\"sour cream\\\"]\"}]}\n",
            "{\"messages\": [{\"role\": \"system\", \"content\": \"You are a helpful recipe assistant. You are to extract the generic ingredients from each of the recipes provided.\"}, {\"role\": \"user\", \"content\": \"Title: Creamy Corn\\n\\nIngredients: [\\\"2 (16 oz.) pkg. frozen corn\\\", \\\"1 (8 oz.) pkg. cream cheese, cubed\\\", \\\"1/3 c. butter, cubed\\\", \\\"1/2 tsp. garlic powder\\\", \\\"1/2 tsp. salt\\\", \\\"1/4 tsp. pepper\\\"]\\n\\nGeneric ingredients: \"}, {\"role\": \"assistant\", \"content\": \"[\\\"frozen corn\\\", \\\"cream cheese\\\", \\\"butter\\\", \\\"garlic powder\\\", \\\"salt\\\", \\\"pepper\\\"]\"}]}\n",
            "{\"messages\": [{\"role\": \"system\", \"content\": \"You are a helpful recipe assistant. You are to extract the generic ingredients from each of the recipes provided.\"}, {\"role\": \"user\", \"content\": \"Title: Chicken Funny\\n\\nIngredients: [\\\"1 large whole chicken\\\", \\\"2 (10 1/2 oz.) cans chicken gravy\\\", \\\"1 (10 1/2 oz.) can cream of mushroom soup\\\", \\\"1 (6 oz.) box Stove Top stuffing\\\", \\\"4 oz. shredded cheese\\\"]\\n\\nGeneric ingredients: \"}, {\"role\": \"assistant\", \"content\": \"[\\\"chicken\\\", \\\"chicken gravy\\\", \\\"cream of mushroom soup\\\", \\\"shredded cheese\\\"]\"}]}\n",
            "{\"messages\": [{\"role\": \"system\", \"content\": \"You are a helpful recipe assistant. You are to extract the generic ingredients from each of the recipes provided.\"}, {\"role\": \"user\", \"content\": \"Title: Reeses Cups(Candy)  \\n\\nIngredients: [\\\"1 c. peanut butter\\\", \\\"3/4 c. graham cracker crumbs\\\", \\\"1 c. melted butter\\\", \\\"1 lb. (3 1/2 c.) powdered sugar\\\", \\\"1 large pkg. chocolate chips\\\"]\\n\\nGeneric ingredients: \"}, {\"role\": \"assistant\", \"content\": \"[\\\"peanut butter\\\", \\\"graham cracker crumbs\\\", \\\"butter\\\", \\\"powdered sugar\\\", \\\"chocolate chips\\\"]\"}]}\n"
          ]
        }
      ],
      "source": [
        "# print the first 5 lines of the training file\n",
        "!head -n 5 tmp_recipe_finetune_training.jsonl"
      ]
    },
    {
      "cell_type": "markdown",
      "id": "0d149e2e-50dd-45c1-bd8d-1291975670b4",
      "metadata": {
        "id": "0d149e2e-50dd-45c1-bd8d-1291975670b4"
      },
      "source": [
        "### Upload files\n",
        "\n",
        "You can now upload the files to our `Files` endpoint to be used by the fine-tuned model.\n"
      ]
    },
    {
      "cell_type": "code",
      "execution_count": 15,
      "id": "69462d9e-e6bd-49b9-a064-9eae4ea5b7a8",
      "metadata": {
        "colab": {
          "base_uri": "https://localhost:8080/"
        },
        "id": "69462d9e-e6bd-49b9-a064-9eae4ea5b7a8",
        "outputId": "8e373790-641a-47a7-a3f2-25b7f647b129"
      },
      "outputs": [
        {
          "output_type": "stream",
          "name": "stdout",
          "text": [
            "Training file ID: file-o0aTCFz98a2AAqGmsDLMzfoN\n",
            "Validation file ID: file-He0KJMEkjd7csPCizxdhI6Sf\n"
          ]
        }
      ],
      "source": [
        "def upload_file(file_name: str, purpose: str) -> str:\n",
        "    with open(file_name, \"rb\") as file_fd:\n",
        "        response = client.files.create(file=file_fd, purpose=purpose)\n",
        "    return response.id\n",
        "\n",
        "\n",
        "training_file_id = upload_file(training_file_name, \"fine-tune\")\n",
        "validation_file_id = upload_file(validation_file_name, \"fine-tune\")\n",
        "\n",
        "print(\"Training file ID:\", training_file_id)\n",
        "print(\"Validation file ID:\", validation_file_id)"
      ]
    },
    {
      "cell_type": "markdown",
      "id": "d61cd381-63ad-4ed9-b0be-47a438891028",
      "metadata": {
        "id": "d61cd381-63ad-4ed9-b0be-47a438891028"
      },
      "source": [
        "## Fine-tuning\n",
        "\n",
        "Now we can create our fine-tuning job with the generated files and an optional suffix to identify the model. The response will contain an `id` which you can use to retrieve updates on the job.\n",
        "\n",
        "Note: The files have to first be processed by our system, so you might get a `File not ready` error. In that case, simply retry a few minutes later.\n"
      ]
    },
    {
      "cell_type": "code",
      "execution_count": 16,
      "id": "05541ceb-5628-447e-962d-7e57c112439c",
      "metadata": {
        "colab": {
          "base_uri": "https://localhost:8080/"
        },
        "id": "05541ceb-5628-447e-962d-7e57c112439c",
        "outputId": "37945afb-2ed1-4ac4-b3bb-2163b1612259"
      },
      "outputs": [
        {
          "output_type": "stream",
          "name": "stdout",
          "text": [
            "Job ID: ftjob-yPvxEhGyU2v5XtTVWuxpf1NH\n",
            "Status: validating_files\n"
          ]
        }
      ],
      "source": [
        "MODEL = \"gpt-4o-mini-2024-07-18\"\n",
        "\n",
        "response = client.fine_tuning.jobs.create(\n",
        "    training_file=training_file_id,\n",
        "    validation_file=validation_file_id,\n",
        "    model=MODEL,\n",
        "    suffix=\"recipe-ner\",\n",
        ")\n",
        "\n",
        "job_id = response.id\n",
        "\n",
        "print(\"Job ID:\", response.id)\n",
        "print(\"Status:\", response.status)"
      ]
    },
    {
      "cell_type": "markdown",
      "id": "1de3ed71-f2d4-4138-95a3-70da187a007e",
      "metadata": {
        "id": "1de3ed71-f2d4-4138-95a3-70da187a007e"
      },
      "source": [
        "#### Check job status\n",
        "\n",
        "You can make a `GET` request to the `https://api.openai.com/v1/alpha/fine-tunes` endpoint to list your alpha fine-tune jobs. In this instance you'll want to check that the ID you got from the previous step ends up as `status: succeeded`.\n",
        "\n",
        "Once it is completed, you can use the `result_files` to sample the results from the validation set (if you uploaded one), and use the ID from the `fine_tuned_model` parameter to invoke your trained model.\n"
      ]
    },
    {
      "cell_type": "code",
      "execution_count": 17,
      "id": "d7392f48",
      "metadata": {
        "colab": {
          "base_uri": "https://localhost:8080/"
        },
        "id": "d7392f48",
        "outputId": "79037305-c00f-4d5d-c9eb-c75304acb409"
      },
      "outputs": [
        {
          "output_type": "stream",
          "name": "stdout",
          "text": [
            "Job ID: ftjob-yPvxEhGyU2v5XtTVWuxpf1NH\n",
            "Status: validating_files\n",
            "Trained Tokens: None\n"
          ]
        }
      ],
      "source": [
        "response = client.fine_tuning.jobs.retrieve(job_id)\n",
        "\n",
        "print(\"Job ID:\", response.id)\n",
        "print(\"Status:\", response.status)\n",
        "print(\"Trained Tokens:\", response.trained_tokens)"
      ]
    },
    {
      "cell_type": "markdown",
      "id": "30a57fbb",
      "metadata": {
        "id": "30a57fbb"
      },
      "source": [
        "We can track the progress of the fine-tune with the events endpoint. You can rerun the cell below a few times until the fine-tune is ready.\n"
      ]
    },
    {
      "cell_type": "code",
      "execution_count": 24,
      "id": "08cace28",
      "metadata": {
        "colab": {
          "base_uri": "https://localhost:8080/"
        },
        "id": "08cace28",
        "outputId": "816a501e-f92c-4d74-b19a-3ab84306fcbc"
      },
      "outputs": [
        {
          "output_type": "stream",
          "name": "stdout",
          "text": [
            "Step 288/303: training loss=0.05\n",
            "Step 289/303: training loss=0.00\n",
            "Step 290/303: training loss=0.00, validation loss=0.20\n",
            "Step 291/303: training loss=0.00\n",
            "Step 292/303: training loss=0.00\n",
            "Step 293/303: training loss=0.00\n",
            "Step 294/303: training loss=0.02\n",
            "Step 295/303: training loss=0.00\n",
            "Step 296/303: training loss=0.00\n",
            "Step 297/303: training loss=0.00\n",
            "Step 298/303: training loss=0.00\n",
            "Step 299/303: training loss=0.01\n",
            "Step 300/303: training loss=0.37, validation loss=0.08\n",
            "Step 301/303: training loss=0.01\n",
            "Step 302/303: training loss=0.00\n",
            "Step 303/303: training loss=0.00, full validation loss=0.35\n",
            "Checkpoint created at step 101\n",
            "Checkpoint created at step 202\n",
            "New fine-tuned model created\n",
            "The job has successfully completed\n"
          ]
        }
      ],
      "source": [
        "response = client.fine_tuning.jobs.list_events(job_id)\n",
        "\n",
        "events = response.data\n",
        "events.reverse()\n",
        "\n",
        "for event in events:\n",
        "    print(event.message)"
      ]
    },
    {
      "cell_type": "markdown",
      "id": "d0da4e32",
      "metadata": {
        "id": "d0da4e32"
      },
      "source": [
        "Now that it's done, we can get a fine-tuned model ID from the job:\n"
      ]
    },
    {
      "cell_type": "code",
      "execution_count": 25,
      "id": "40b28c26",
      "metadata": {
        "colab": {
          "base_uri": "https://localhost:8080/"
        },
        "id": "40b28c26",
        "outputId": "b6bd858e-6a7e-403c-b4aa-d7b73a1ac412"
      },
      "outputs": [
        {
          "output_type": "stream",
          "name": "stdout",
          "text": [
            "Fine-tuned model ID: ft:gpt-4o-mini-2024-07-18:hochschule-offenburg:recipe-ner:AT49UKjc\n"
          ]
        }
      ],
      "source": [
        "response = client.fine_tuning.jobs.retrieve(job_id)\n",
        "fine_tuned_model_id = response.fine_tuned_model\n",
        "\n",
        "if fine_tuned_model_id is None:\n",
        "    raise RuntimeError(\n",
        "        \"Fine-tuned model ID not found. Your job has likely not been completed yet.\"\n",
        "    )\n",
        "\n",
        "print(\"Fine-tuned model ID:\", fine_tuned_model_id)"
      ]
    },
    {
      "cell_type": "markdown",
      "id": "0025e392-84cd-4566-a384-ea31ca43e567",
      "metadata": {
        "id": "0025e392-84cd-4566-a384-ea31ca43e567"
      },
      "source": [
        "## Inference\n"
      ]
    },
    {
      "cell_type": "markdown",
      "id": "0ab9ac11",
      "metadata": {
        "id": "0ab9ac11"
      },
      "source": [
        "The last step is to use your fine-tuned model for inference. Similar to the classic `FineTuning`, you simply call `ChatCompletions` with your new fine-tuned model name filling the `model` parameter.\n"
      ]
    },
    {
      "cell_type": "code",
      "execution_count": 26,
      "id": "1c7de631-b68f-4eff-9ae7-051641579c2b",
      "metadata": {
        "colab": {
          "base_uri": "https://localhost:8080/"
        },
        "id": "1c7de631-b68f-4eff-9ae7-051641579c2b",
        "outputId": "1f0f1002-9305-447a-ba4f-52c0d633fb7d"
      },
      "outputs": [
        {
          "output_type": "stream",
          "name": "stdout",
          "text": [
            "[{'content': 'You are a helpful recipe assistant. You are to extract the '\n",
            "             'generic ingredients from each of the recipes provided.',\n",
            "  'role': 'system'},\n",
            " {'content': 'Title: Beef Brisket\\n'\n",
            "             '\\n'\n",
            "             'Ingredients: [\"4 lb. beef brisket\", \"1 c. catsup\", \"1 c. water\", '\n",
            "             '\"1/2 onion, minced\", \"2 Tbsp. cider vinegar\", \"1 Tbsp. prepared '\n",
            "             'horseradish\", \"1 Tbsp. prepared mustard\", \"1 tsp. salt\", \"1/2 '\n",
            "             'tsp. pepper\"]\\n'\n",
            "             '\\n'\n",
            "             'Generic ingredients: ',\n",
            "  'role': 'user'}]\n"
          ]
        }
      ],
      "source": [
        "test_df = recipe_df.loc[201:300]\n",
        "test_row = test_df.iloc[0]\n",
        "test_messages = []\n",
        "test_messages.append({\"role\": \"system\", \"content\": system_message})\n",
        "user_message = create_user_message(test_row)\n",
        "test_messages.append({\"role\": \"user\", \"content\": user_message})\n",
        "\n",
        "pprint(test_messages)"
      ]
    },
    {
      "cell_type": "code",
      "execution_count": 27,
      "id": "1a1d2589",
      "metadata": {
        "colab": {
          "base_uri": "https://localhost:8080/"
        },
        "id": "1a1d2589",
        "outputId": "3297f8e5-3843-46e1-f15c-3adcd0a44061"
      },
      "outputs": [
        {
          "output_type": "stream",
          "name": "stdout",
          "text": [
            "[\"beef brisket\", \"catsup\", \"water\", \"onion\", \"cider vinegar\", \"horseradish\", \"mustard\", \"salt\", \"pepper\"]\n"
          ]
        }
      ],
      "source": [
        "response = client.chat.completions.create(\n",
        "    model=fine_tuned_model_id, messages=test_messages, temperature=0, max_tokens=500\n",
        ")\n",
        "print(response.choices[0].message.content)"
      ]
    },
    {
      "cell_type": "markdown",
      "id": "07799909-3f2a-4274-b81e-dabc048be28f",
      "metadata": {
        "id": "07799909-3f2a-4274-b81e-dabc048be28f"
      },
      "source": [
        "## Conclusion\n",
        "\n",
        "Congratulations, you are now ready to fine-tune your own models using the `ChatCompletion` format! We look forward to seeing what you build\n"
      ]
    }
  ],
  "metadata": {
    "kernelspec": {
      "display_name": "Python 3",
      "language": "python",
      "name": "python3"
    },
    "language_info": {
      "codemirror_mode": {
        "name": "ipython",
        "version": 3
      },
      "file_extension": ".py",
      "mimetype": "text/x-python",
      "name": "python",
      "nbconvert_exporter": "python",
      "pygments_lexer": "ipython3",
      "version": "3.11.8"
    },
    "colab": {
      "provenance": []
    }
  },
  "nbformat": 4,
  "nbformat_minor": 5
}