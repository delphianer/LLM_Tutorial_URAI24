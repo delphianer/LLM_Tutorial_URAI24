{
  "cells": [
    {
      "cell_type": "markdown",
      "metadata": {
        "id": "view-in-github",
        "colab_type": "text"
      },
      "source": [
        "<a href=\"https://colab.research.google.com/github/keuperj/LLM_Tutorial_URAI24/blob/main/RAG.ipynb\" target=\"_parent\"><img src=\"https://colab.research.google.com/assets/colab-badge.svg\" alt=\"Open In Colab\"/></a>"
      ]
    },
    {
      "cell_type": "markdown",
      "source": [
        "# RAG Tutorial"
      ],
      "metadata": {
        "id": "2PHY9XGfSf69"
      }
    },
    {
      "cell_type": "markdown",
      "source": [
        "## Setup"
      ],
      "metadata": {
        "id": "AOXqUDQ6SkkT"
      }
    },
    {
      "cell_type": "code",
      "source": [
        "#install stuff\n",
        "!pip install --quiet openai==0.28 python-dotenv chromadb pandas"
      ],
      "metadata": {
        "id": "ozsiWqtISjLE"
      },
      "execution_count": 1,
      "outputs": []
    },
    {
      "cell_type": "code",
      "source": [
        "#get course repo\n",
        "!git clone https://github.com/keuperj/LLM_Tutorial_URAI24.git"
      ],
      "metadata": {
        "colab": {
          "base_uri": "https://localhost:8080/"
        },
        "id": "yV_6VZHXSrGx",
        "outputId": "26409d55-3758-4026-facf-5c00ff6c9879"
      },
      "execution_count": 2,
      "outputs": [
        {
          "output_type": "stream",
          "name": "stdout",
          "text": [
            "fatal: destination path 'LLM_Tutorial_URAI24' already exists and is not an empty directory.\n"
          ]
        }
      ]
    },
    {
      "cell_type": "code",
      "source": [
        "#go to tutorial directory\n",
        "%cd LLM_Tutorial_URAI24"
      ],
      "metadata": {
        "colab": {
          "base_uri": "https://localhost:8080/"
        },
        "id": "JhuEazKMSuhM",
        "outputId": "7411a534-249f-4f1e-9b19-e5a3d9d770d1"
      },
      "execution_count": 3,
      "outputs": [
        {
          "output_type": "stream",
          "name": "stdout",
          "text": [
            "/content/LLM_Tutorial_URAI24\n"
          ]
        }
      ]
    },
    {
      "cell_type": "code",
      "source": [
        "#read OpenAI key from encrypted file to environment variable\n",
        "#replace PASSWORD with the real password\n",
        "#!echo PASSWORD | gpg --batch --yes --passphrase-fd 0 env.gpg\n",
        "!echo PASSWORD| gpg --batch --yes --passphrase-fd 0 env.gpg\n",
        "!mv env .env"
      ],
      "metadata": {
        "colab": {
          "base_uri": "https://localhost:8080/"
        },
        "id": "Ofwjs-jjSw_8",
        "outputId": "4cbde0c3-7247-451f-bd8f-ad4fb33b67ca"
      },
      "execution_count": 4,
      "outputs": [
        {
          "output_type": "stream",
          "name": "stdout",
          "text": [
            "gpg: WARNING: no command supplied.  Trying to guess what you mean ...\n",
            "gpg: AES256.CFB encrypted data\n",
            "gpg: encrypted with 1 passphrase\n"
          ]
        }
      ]
    },
    {
      "cell_type": "code",
      "source": [
        "#load key into openAI API\n",
        "import os\n",
        "from os.path import join, dirname\n",
        "import openai\n",
        "from dotenv import load_dotenv, find_dotenv\n",
        "load_dotenv(find_dotenv())\n",
        "openai.api_key=os.environ[\"OPENAI_API_KEY\"]"
      ],
      "metadata": {
        "id": "aUWGUiJgS3mP"
      },
      "execution_count": 5,
      "outputs": []
    },
    {
      "cell_type": "markdown",
      "metadata": {
        "id": "6NIy82TOSNJP"
      },
      "source": [
        "# Robust Question Answering with Chroma and OpenAI\n",
        "\n",
        "This notebook guides you step-by-step through answering questions about a collection of data, using [Chroma](https://trychroma.com), an open-source embeddings database, along with OpenAI's [text embeddings](https://platform.openai.com/docs/guides/embeddings/use-cases) and [chat completion](https://platform.openai.com/docs/guides/chat) API's.\n",
        "\n",
        "Additionally, this notebook demonstrates some of the tradeoffs in making a question answering system more robust. As we shall see, *simple querying doesn't always create the best results*!\n",
        "\n",
        "## Question Answering with LLMs\n",
        "\n",
        "Large language models (LLMs) like OpenAI's ChatGPT can be used to answer questions about data that the model may not have been trained on, or have access to. For example;\n",
        "\n",
        "- Personal data like e-mails and notes\n",
        "- Highly specialized data like archival or legal documents\n",
        "- Newly created data like recent news stories\n",
        "\n",
        "In order to overcome this limitation, we can use a data store which is amenable to querying in natural language, just like the LLM itself. An embeddings store like Chroma represents documents as [embeddings](https://openai.com/blog/introducing-text-and-code-embeddings), alongside the documents themselves.\n",
        "\n",
        "By embedding a text query, Chroma can find relevant documents, which we can then pass to the LLM to answer our question. We'll show detailed examples and variants of this approach."
      ]
    },
    {
      "cell_type": "markdown",
      "metadata": {
        "id": "E9IfSd9ySNJS"
      },
      "source": [
        "# Dataset\n",
        "\n",
        "Throughout this notebook, we use the [SciFact dataset](https://github.com/allenai/scifact). This is a curated dataset of expert annotated scientific claims, with an accompanying text corpus of paper titles and abstracts. Each claim may be supported, contradicted, or not have enough evidence either way, according to the documents in the corpus.\n",
        "\n",
        "Having the corpus available as ground-truth allows us to investigate how well the following approaches to LLM question answering perform."
      ]
    },
    {
      "cell_type": "code",
      "execution_count": 6,
      "metadata": {
        "colab": {
          "base_uri": "https://localhost:8080/",
          "height": 206
        },
        "id": "JN0282l8SNJS",
        "outputId": "19814bf3-05b5-4a66-85ca-40e26252ae14"
      },
      "outputs": [
        {
          "output_type": "execute_result",
          "data": {
            "text/plain": [
              "   id                                              claim  \\\n",
              "0   1  0-dimensional biomaterials show inductive prop...   \n",
              "1   3  1,000 genomes project enables mapping of genet...   \n",
              "2   5         1/2000 in UK have abnormal PrP positivity.   \n",
              "3  13  5% of perinatal mortality is due to low birth ...   \n",
              "4  36  A deficiency of vitamin B12 increases blood le...   \n",
              "\n",
              "                                            evidence        cited_doc_ids  \n",
              "0                                                 {}           [31715818]  \n",
              "1  {'14717500': [{'sentences': [2, 5], 'label': '...           [14717500]  \n",
              "2  {'13734012': [{'sentences': [4], 'label': 'SUP...           [13734012]  \n",
              "3                                                 {}            [1606628]  \n",
              "4                                                 {}  [5152028, 11705328]  "
            ],
            "text/html": [
              "\n",
              "  <div id=\"df-f5787bb8-dc95-4650-9668-0965086027d1\" class=\"colab-df-container\">\n",
              "    <div>\n",
              "<style scoped>\n",
              "    .dataframe tbody tr th:only-of-type {\n",
              "        vertical-align: middle;\n",
              "    }\n",
              "\n",
              "    .dataframe tbody tr th {\n",
              "        vertical-align: top;\n",
              "    }\n",
              "\n",
              "    .dataframe thead th {\n",
              "        text-align: right;\n",
              "    }\n",
              "</style>\n",
              "<table border=\"1\" class=\"dataframe\">\n",
              "  <thead>\n",
              "    <tr style=\"text-align: right;\">\n",
              "      <th></th>\n",
              "      <th>id</th>\n",
              "      <th>claim</th>\n",
              "      <th>evidence</th>\n",
              "      <th>cited_doc_ids</th>\n",
              "    </tr>\n",
              "  </thead>\n",
              "  <tbody>\n",
              "    <tr>\n",
              "      <th>0</th>\n",
              "      <td>1</td>\n",
              "      <td>0-dimensional biomaterials show inductive prop...</td>\n",
              "      <td>{}</td>\n",
              "      <td>[31715818]</td>\n",
              "    </tr>\n",
              "    <tr>\n",
              "      <th>1</th>\n",
              "      <td>3</td>\n",
              "      <td>1,000 genomes project enables mapping of genet...</td>\n",
              "      <td>{'14717500': [{'sentences': [2, 5], 'label': '...</td>\n",
              "      <td>[14717500]</td>\n",
              "    </tr>\n",
              "    <tr>\n",
              "      <th>2</th>\n",
              "      <td>5</td>\n",
              "      <td>1/2000 in UK have abnormal PrP positivity.</td>\n",
              "      <td>{'13734012': [{'sentences': [4], 'label': 'SUP...</td>\n",
              "      <td>[13734012]</td>\n",
              "    </tr>\n",
              "    <tr>\n",
              "      <th>3</th>\n",
              "      <td>13</td>\n",
              "      <td>5% of perinatal mortality is due to low birth ...</td>\n",
              "      <td>{}</td>\n",
              "      <td>[1606628]</td>\n",
              "    </tr>\n",
              "    <tr>\n",
              "      <th>4</th>\n",
              "      <td>36</td>\n",
              "      <td>A deficiency of vitamin B12 increases blood le...</td>\n",
              "      <td>{}</td>\n",
              "      <td>[5152028, 11705328]</td>\n",
              "    </tr>\n",
              "  </tbody>\n",
              "</table>\n",
              "</div>\n",
              "    <div class=\"colab-df-buttons\">\n",
              "\n",
              "  <div class=\"colab-df-container\">\n",
              "    <button class=\"colab-df-convert\" onclick=\"convertToInteractive('df-f5787bb8-dc95-4650-9668-0965086027d1')\"\n",
              "            title=\"Convert this dataframe to an interactive table.\"\n",
              "            style=\"display:none;\">\n",
              "\n",
              "  <svg xmlns=\"http://www.w3.org/2000/svg\" height=\"24px\" viewBox=\"0 -960 960 960\">\n",
              "    <path d=\"M120-120v-720h720v720H120Zm60-500h600v-160H180v160Zm220 220h160v-160H400v160Zm0 220h160v-160H400v160ZM180-400h160v-160H180v160Zm440 0h160v-160H620v160ZM180-180h160v-160H180v160Zm440 0h160v-160H620v160Z\"/>\n",
              "  </svg>\n",
              "    </button>\n",
              "\n",
              "  <style>\n",
              "    .colab-df-container {\n",
              "      display:flex;\n",
              "      gap: 12px;\n",
              "    }\n",
              "\n",
              "    .colab-df-convert {\n",
              "      background-color: #E8F0FE;\n",
              "      border: none;\n",
              "      border-radius: 50%;\n",
              "      cursor: pointer;\n",
              "      display: none;\n",
              "      fill: #1967D2;\n",
              "      height: 32px;\n",
              "      padding: 0 0 0 0;\n",
              "      width: 32px;\n",
              "    }\n",
              "\n",
              "    .colab-df-convert:hover {\n",
              "      background-color: #E2EBFA;\n",
              "      box-shadow: 0px 1px 2px rgba(60, 64, 67, 0.3), 0px 1px 3px 1px rgba(60, 64, 67, 0.15);\n",
              "      fill: #174EA6;\n",
              "    }\n",
              "\n",
              "    .colab-df-buttons div {\n",
              "      margin-bottom: 4px;\n",
              "    }\n",
              "\n",
              "    [theme=dark] .colab-df-convert {\n",
              "      background-color: #3B4455;\n",
              "      fill: #D2E3FC;\n",
              "    }\n",
              "\n",
              "    [theme=dark] .colab-df-convert:hover {\n",
              "      background-color: #434B5C;\n",
              "      box-shadow: 0px 1px 3px 1px rgba(0, 0, 0, 0.15);\n",
              "      filter: drop-shadow(0px 1px 2px rgba(0, 0, 0, 0.3));\n",
              "      fill: #FFFFFF;\n",
              "    }\n",
              "  </style>\n",
              "\n",
              "    <script>\n",
              "      const buttonEl =\n",
              "        document.querySelector('#df-f5787bb8-dc95-4650-9668-0965086027d1 button.colab-df-convert');\n",
              "      buttonEl.style.display =\n",
              "        google.colab.kernel.accessAllowed ? 'block' : 'none';\n",
              "\n",
              "      async function convertToInteractive(key) {\n",
              "        const element = document.querySelector('#df-f5787bb8-dc95-4650-9668-0965086027d1');\n",
              "        const dataTable =\n",
              "          await google.colab.kernel.invokeFunction('convertToInteractive',\n",
              "                                                    [key], {});\n",
              "        if (!dataTable) return;\n",
              "\n",
              "        const docLinkHtml = 'Like what you see? Visit the ' +\n",
              "          '<a target=\"_blank\" href=https://colab.research.google.com/notebooks/data_table.ipynb>data table notebook</a>'\n",
              "          + ' to learn more about interactive tables.';\n",
              "        element.innerHTML = '';\n",
              "        dataTable['output_type'] = 'display_data';\n",
              "        await google.colab.output.renderOutput(dataTable, element);\n",
              "        const docLink = document.createElement('div');\n",
              "        docLink.innerHTML = docLinkHtml;\n",
              "        element.appendChild(docLink);\n",
              "      }\n",
              "    </script>\n",
              "  </div>\n",
              "\n",
              "\n",
              "<div id=\"df-44b7bd8f-735c-473b-81d2-1f8199a15fd4\">\n",
              "  <button class=\"colab-df-quickchart\" onclick=\"quickchart('df-44b7bd8f-735c-473b-81d2-1f8199a15fd4')\"\n",
              "            title=\"Suggest charts\"\n",
              "            style=\"display:none;\">\n",
              "\n",
              "<svg xmlns=\"http://www.w3.org/2000/svg\" height=\"24px\"viewBox=\"0 0 24 24\"\n",
              "     width=\"24px\">\n",
              "    <g>\n",
              "        <path d=\"M19 3H5c-1.1 0-2 .9-2 2v14c0 1.1.9 2 2 2h14c1.1 0 2-.9 2-2V5c0-1.1-.9-2-2-2zM9 17H7v-7h2v7zm4 0h-2V7h2v10zm4 0h-2v-4h2v4z\"/>\n",
              "    </g>\n",
              "</svg>\n",
              "  </button>\n",
              "\n",
              "<style>\n",
              "  .colab-df-quickchart {\n",
              "      --bg-color: #E8F0FE;\n",
              "      --fill-color: #1967D2;\n",
              "      --hover-bg-color: #E2EBFA;\n",
              "      --hover-fill-color: #174EA6;\n",
              "      --disabled-fill-color: #AAA;\n",
              "      --disabled-bg-color: #DDD;\n",
              "  }\n",
              "\n",
              "  [theme=dark] .colab-df-quickchart {\n",
              "      --bg-color: #3B4455;\n",
              "      --fill-color: #D2E3FC;\n",
              "      --hover-bg-color: #434B5C;\n",
              "      --hover-fill-color: #FFFFFF;\n",
              "      --disabled-bg-color: #3B4455;\n",
              "      --disabled-fill-color: #666;\n",
              "  }\n",
              "\n",
              "  .colab-df-quickchart {\n",
              "    background-color: var(--bg-color);\n",
              "    border: none;\n",
              "    border-radius: 50%;\n",
              "    cursor: pointer;\n",
              "    display: none;\n",
              "    fill: var(--fill-color);\n",
              "    height: 32px;\n",
              "    padding: 0;\n",
              "    width: 32px;\n",
              "  }\n",
              "\n",
              "  .colab-df-quickchart:hover {\n",
              "    background-color: var(--hover-bg-color);\n",
              "    box-shadow: 0 1px 2px rgba(60, 64, 67, 0.3), 0 1px 3px 1px rgba(60, 64, 67, 0.15);\n",
              "    fill: var(--button-hover-fill-color);\n",
              "  }\n",
              "\n",
              "  .colab-df-quickchart-complete:disabled,\n",
              "  .colab-df-quickchart-complete:disabled:hover {\n",
              "    background-color: var(--disabled-bg-color);\n",
              "    fill: var(--disabled-fill-color);\n",
              "    box-shadow: none;\n",
              "  }\n",
              "\n",
              "  .colab-df-spinner {\n",
              "    border: 2px solid var(--fill-color);\n",
              "    border-color: transparent;\n",
              "    border-bottom-color: var(--fill-color);\n",
              "    animation:\n",
              "      spin 1s steps(1) infinite;\n",
              "  }\n",
              "\n",
              "  @keyframes spin {\n",
              "    0% {\n",
              "      border-color: transparent;\n",
              "      border-bottom-color: var(--fill-color);\n",
              "      border-left-color: var(--fill-color);\n",
              "    }\n",
              "    20% {\n",
              "      border-color: transparent;\n",
              "      border-left-color: var(--fill-color);\n",
              "      border-top-color: var(--fill-color);\n",
              "    }\n",
              "    30% {\n",
              "      border-color: transparent;\n",
              "      border-left-color: var(--fill-color);\n",
              "      border-top-color: var(--fill-color);\n",
              "      border-right-color: var(--fill-color);\n",
              "    }\n",
              "    40% {\n",
              "      border-color: transparent;\n",
              "      border-right-color: var(--fill-color);\n",
              "      border-top-color: var(--fill-color);\n",
              "    }\n",
              "    60% {\n",
              "      border-color: transparent;\n",
              "      border-right-color: var(--fill-color);\n",
              "    }\n",
              "    80% {\n",
              "      border-color: transparent;\n",
              "      border-right-color: var(--fill-color);\n",
              "      border-bottom-color: var(--fill-color);\n",
              "    }\n",
              "    90% {\n",
              "      border-color: transparent;\n",
              "      border-bottom-color: var(--fill-color);\n",
              "    }\n",
              "  }\n",
              "</style>\n",
              "\n",
              "  <script>\n",
              "    async function quickchart(key) {\n",
              "      const quickchartButtonEl =\n",
              "        document.querySelector('#' + key + ' button');\n",
              "      quickchartButtonEl.disabled = true;  // To prevent multiple clicks.\n",
              "      quickchartButtonEl.classList.add('colab-df-spinner');\n",
              "      try {\n",
              "        const charts = await google.colab.kernel.invokeFunction(\n",
              "            'suggestCharts', [key], {});\n",
              "      } catch (error) {\n",
              "        console.error('Error during call to suggestCharts:', error);\n",
              "      }\n",
              "      quickchartButtonEl.classList.remove('colab-df-spinner');\n",
              "      quickchartButtonEl.classList.add('colab-df-quickchart-complete');\n",
              "    }\n",
              "    (() => {\n",
              "      let quickchartButtonEl =\n",
              "        document.querySelector('#df-44b7bd8f-735c-473b-81d2-1f8199a15fd4 button');\n",
              "      quickchartButtonEl.style.display =\n",
              "        google.colab.kernel.accessAllowed ? 'block' : 'none';\n",
              "    })();\n",
              "  </script>\n",
              "</div>\n",
              "\n",
              "    </div>\n",
              "  </div>\n"
            ],
            "application/vnd.google.colaboratory.intrinsic+json": {
              "type": "dataframe",
              "variable_name": "claim_df",
              "summary": "{\n  \"name\": \"claim_df\",\n  \"rows\": 300,\n  \"fields\": [\n    {\n      \"column\": \"id\",\n      \"properties\": {\n        \"dtype\": \"number\",\n        \"std\": 409,\n        \"min\": 1,\n        \"max\": 1395,\n        \"num_unique_values\": 300,\n        \"samples\": [\n          922,\n          1270,\n          716\n        ],\n        \"semantic_type\": \"\",\n        \"description\": \"\"\n      }\n    },\n    {\n      \"column\": \"claim\",\n      \"properties\": {\n        \"dtype\": \"string\",\n        \"num_unique_values\": 300,\n        \"samples\": [\n          \"Patients in stable partnerships have a faster progression from HIV to AIDS.\",\n          \"The risk of male prisoners harming themselves is ten times that of female prisoners.\",\n          \"Low expression of miR7a exerts a biological function in testis.\"\n        ],\n        \"semantic_type\": \"\",\n        \"description\": \"\"\n      }\n    },\n    {\n      \"column\": \"evidence\",\n      \"properties\": {\n        \"dtype\": \"object\",\n        \"semantic_type\": \"\",\n        \"description\": \"\"\n      }\n    },\n    {\n      \"column\": \"cited_doc_ids\",\n      \"properties\": {\n        \"dtype\": \"object\",\n        \"semantic_type\": \"\",\n        \"description\": \"\"\n      }\n    }\n  ]\n}"
            }
          },
          "metadata": {},
          "execution_count": 6
        }
      ],
      "source": [
        "# Load the claim dataset\n",
        "import pandas as pd\n",
        "\n",
        "claim_df = pd.read_json(f'data/scifact_claims.jsonl', lines=True)\n",
        "claim_df.head()"
      ]
    },
    {
      "cell_type": "markdown",
      "metadata": {
        "id": "M1PwYgngSNJS"
      },
      "source": [
        "# Just asking the model\n",
        "\n",
        "GPT-3.5 was trained on a large amount of scientific information. As a baseline, we'd like to understand what the model already knows without any further context. This will allow us to calibrate overall performance.\n",
        "\n",
        "We construct an appropriate prompt, with some example facts, then query the model with each claim in the dataset. We ask the model to assess a claim as 'True', 'False', or 'NEE' if there is not enough evidence one way or the other."
      ]
    },
    {
      "cell_type": "code",
      "execution_count": 7,
      "metadata": {
        "id": "mCm53fBESNJS"
      },
      "outputs": [],
      "source": [
        "def build_prompt(claim):\n",
        "    return [\n",
        "        {\"role\": \"system\", \"content\": \"I will ask you to assess a scientific claim. Output only the text 'True' if the claim is true, 'False' if the claim is false, or 'NEE' if there's not enough evidence.\"},\n",
        "        {\"role\": \"user\", \"content\": f\"\"\"\n",
        "Example:\n",
        "\n",
        "Claim:\n",
        "0-dimensional biomaterials show inductive properties.\n",
        "\n",
        "Assessment:\n",
        "False\n",
        "\n",
        "Claim:\n",
        "1/2000 in UK have abnormal PrP positivity.\n",
        "\n",
        "Assessment:\n",
        "True\n",
        "\n",
        "Claim:\n",
        "Aspirin inhibits the production of PGE2.\n",
        "\n",
        "Assessment:\n",
        "False\n",
        "\n",
        "End of examples. Assess the following claim:\n",
        "\n",
        "Claim:\n",
        "{claim}\n",
        "\n",
        "Assessment:\n",
        "\"\"\"}\n",
        "    ]\n",
        "\n",
        "\n",
        "def assess_claims(claims):\n",
        "    responses = []\n",
        "    # Query the OpenAI API\n",
        "    for claim in claims:\n",
        "        response = openai.ChatCompletion.create(\n",
        "            model='gpt-3.5-turbo',\n",
        "            messages=build_prompt(claim),\n",
        "            max_tokens=3,\n",
        "        )\n",
        "        # Strip any punctuation or whitespace from the response\n",
        "        responses.append(response.choices[0].message.content.strip('., '))\n",
        "\n",
        "    return responses"
      ]
    },
    {
      "cell_type": "markdown",
      "metadata": {
        "id": "B3YSp4YwSNJS"
      },
      "source": [
        "We sample 100 claims from the dataset"
      ]
    },
    {
      "cell_type": "code",
      "execution_count": 8,
      "metadata": {
        "id": "hIg1LZjQSNJS"
      },
      "outputs": [],
      "source": [
        "# Let's take a look at 100 claims\n",
        "samples = claim_df.sample(50)\n",
        "\n",
        "claims = samples['claim'].tolist()\n"
      ]
    },
    {
      "cell_type": "markdown",
      "metadata": {
        "id": "pne4vYV4SNJT"
      },
      "source": [
        "We evaluate the ground-truth according to the dataset. From the dataset description, each claim is either supported or contradicted by the evidence, or else there isn't enough evidence either way."
      ]
    },
    {
      "cell_type": "code",
      "execution_count": 9,
      "metadata": {
        "id": "iwJG-b9aSNJT"
      },
      "outputs": [],
      "source": [
        "def get_groundtruth(evidence):\n",
        "    groundtruth = []\n",
        "    for e in evidence:\n",
        "        # Evidence is empty\n",
        "        if len(e) == 0:\n",
        "            groundtruth.append('NEE')\n",
        "        else:\n",
        "            # In this dataset, all evidence for a given claim is consistent, either SUPPORT or CONTRADICT\n",
        "            if list(e.values())[0][0]['label'] == 'SUPPORT':\n",
        "                groundtruth.append('True')\n",
        "            else:\n",
        "                groundtruth.append('False')\n",
        "    return groundtruth"
      ]
    },
    {
      "cell_type": "code",
      "execution_count": 10,
      "metadata": {
        "id": "uCiVbVm7SNJT"
      },
      "outputs": [],
      "source": [
        "evidence = samples['evidence'].tolist()\n",
        "groundtruth = get_groundtruth(evidence)"
      ]
    },
    {
      "cell_type": "markdown",
      "metadata": {
        "id": "BGUv_irISNJT"
      },
      "source": [
        "We also output the confusion matrix, comparing the model's assessments with the ground truth, in an easy to read table."
      ]
    },
    {
      "cell_type": "code",
      "execution_count": 11,
      "metadata": {
        "id": "OUZnSrAeSNJT"
      },
      "outputs": [],
      "source": [
        "def confusion_matrix(inferred, groundtruth):\n",
        "    assert len(inferred) == len(groundtruth)\n",
        "    confusion = {\n",
        "        'True': {'True': 0, 'False': 0, 'NEE': 0},\n",
        "        'False': {'True': 0, 'False': 0, 'NEE': 0},\n",
        "        'NEE': {'True': 0, 'False': 0, 'NEE': 0},\n",
        "    }\n",
        "    for i, g in zip(inferred, groundtruth):\n",
        "        confusion[i][g] += 1\n",
        "\n",
        "    # Pretty print the confusion matrix\n",
        "    print('\\tGroundtruth')\n",
        "    print('\\tTrue\\tFalse\\tNEE')\n",
        "    for i in confusion:\n",
        "        print(i, end='\\t')\n",
        "        for g in confusion[i]:\n",
        "            print(confusion[i][g], end='\\t')\n",
        "        print()\n",
        "\n",
        "    return confusion"
      ]
    },
    {
      "cell_type": "markdown",
      "metadata": {
        "id": "hNlWYdedSNJT"
      },
      "source": [
        "We ask the model to directly assess the claims, without additional context."
      ]
    },
    {
      "cell_type": "code",
      "execution_count": 12,
      "metadata": {
        "colab": {
          "base_uri": "https://localhost:8080/"
        },
        "id": "LLC5jVfuSNJT",
        "outputId": "e4e58271-4039-456f-9bd8-b94549974047"
      },
      "outputs": [
        {
          "output_type": "stream",
          "name": "stdout",
          "text": [
            "\tGroundtruth\n",
            "\tTrue\tFalse\tNEE\n",
            "True\t7\t2\t7\t\n",
            "False\t2\t1\t1\t\n",
            "NEE\t14\t4\t12\t\n"
          ]
        },
        {
          "output_type": "execute_result",
          "data": {
            "text/plain": [
              "{'True': {'True': 7, 'False': 2, 'NEE': 7},\n",
              " 'False': {'True': 2, 'False': 1, 'NEE': 1},\n",
              " 'NEE': {'True': 14, 'False': 4, 'NEE': 12}}"
            ]
          },
          "metadata": {},
          "execution_count": 12
        }
      ],
      "source": [
        "gpt_inferred = assess_claims(claims)\n",
        "confusion_matrix(gpt_inferred, groundtruth)"
      ]
    },
    {
      "cell_type": "markdown",
      "metadata": {
        "id": "VzHRRhxaSNJT"
      },
      "source": [
        "## Results\n",
        "\n",
        "From these results we see that the LLM is strongly biased to assess claims as true, even when they are false, and also tends to assess false claims as not having enough evidence. Note that 'not enough evidence' is with respect to the model's assessment of the claim in a vacuum, without additional context.\n"
      ]
    },
    {
      "cell_type": "markdown",
      "metadata": {
        "id": "LwZOCMLTSNJT"
      },
      "source": [
        "# Adding context\n",
        "\n",
        "We now add the additional context available from the corpus of paper titles and abstracts. This section shows how to load a text corpus into Chroma, using OpenAI text embeddings."
      ]
    },
    {
      "cell_type": "markdown",
      "metadata": {
        "id": "sbUTIjG7SNJT"
      },
      "source": [
        "First, we load the text corpus."
      ]
    },
    {
      "cell_type": "code",
      "execution_count": 14,
      "metadata": {
        "colab": {
          "base_uri": "https://localhost:8080/",
          "height": 206
        },
        "id": "CijPc82GSNJT",
        "outputId": "3f647b49-6ea8-4cee-c65c-d1ea32945a96"
      },
      "outputs": [
        {
          "output_type": "execute_result",
          "data": {
            "text/plain": [
              "   doc_id                                              title  \\\n",
              "0    4983  Microstructural development of human newborn c...   \n",
              "1    5836  Induction of myelodysplasia by myeloid-derived...   \n",
              "2    7912  BC1 RNA, the transcript from a master gene for...   \n",
              "3   18670  The DNA Methylome of Human Peripheral Blood Mo...   \n",
              "4   19238  The human myelin basic protein gene is include...   \n",
              "\n",
              "                                            abstract  structured  \n",
              "0  [Alterations of the architecture of cerebral w...       False  \n",
              "1  [Myelodysplastic syndromes (MDS) are age-depen...       False  \n",
              "2  [ID elements are short interspersed elements (...       False  \n",
              "3  [DNA methylation plays an important role in bi...       False  \n",
              "4  [Two human Golli (for gene expressed in the ol...       False  "
            ],
            "text/html": [
              "\n",
              "  <div id=\"df-11f67ea8-6437-4f91-9a4a-5983d5b5268f\" class=\"colab-df-container\">\n",
              "    <div>\n",
              "<style scoped>\n",
              "    .dataframe tbody tr th:only-of-type {\n",
              "        vertical-align: middle;\n",
              "    }\n",
              "\n",
              "    .dataframe tbody tr th {\n",
              "        vertical-align: top;\n",
              "    }\n",
              "\n",
              "    .dataframe thead th {\n",
              "        text-align: right;\n",
              "    }\n",
              "</style>\n",
              "<table border=\"1\" class=\"dataframe\">\n",
              "  <thead>\n",
              "    <tr style=\"text-align: right;\">\n",
              "      <th></th>\n",
              "      <th>doc_id</th>\n",
              "      <th>title</th>\n",
              "      <th>abstract</th>\n",
              "      <th>structured</th>\n",
              "    </tr>\n",
              "  </thead>\n",
              "  <tbody>\n",
              "    <tr>\n",
              "      <th>0</th>\n",
              "      <td>4983</td>\n",
              "      <td>Microstructural development of human newborn c...</td>\n",
              "      <td>[Alterations of the architecture of cerebral w...</td>\n",
              "      <td>False</td>\n",
              "    </tr>\n",
              "    <tr>\n",
              "      <th>1</th>\n",
              "      <td>5836</td>\n",
              "      <td>Induction of myelodysplasia by myeloid-derived...</td>\n",
              "      <td>[Myelodysplastic syndromes (MDS) are age-depen...</td>\n",
              "      <td>False</td>\n",
              "    </tr>\n",
              "    <tr>\n",
              "      <th>2</th>\n",
              "      <td>7912</td>\n",
              "      <td>BC1 RNA, the transcript from a master gene for...</td>\n",
              "      <td>[ID elements are short interspersed elements (...</td>\n",
              "      <td>False</td>\n",
              "    </tr>\n",
              "    <tr>\n",
              "      <th>3</th>\n",
              "      <td>18670</td>\n",
              "      <td>The DNA Methylome of Human Peripheral Blood Mo...</td>\n",
              "      <td>[DNA methylation plays an important role in bi...</td>\n",
              "      <td>False</td>\n",
              "    </tr>\n",
              "    <tr>\n",
              "      <th>4</th>\n",
              "      <td>19238</td>\n",
              "      <td>The human myelin basic protein gene is include...</td>\n",
              "      <td>[Two human Golli (for gene expressed in the ol...</td>\n",
              "      <td>False</td>\n",
              "    </tr>\n",
              "  </tbody>\n",
              "</table>\n",
              "</div>\n",
              "    <div class=\"colab-df-buttons\">\n",
              "\n",
              "  <div class=\"colab-df-container\">\n",
              "    <button class=\"colab-df-convert\" onclick=\"convertToInteractive('df-11f67ea8-6437-4f91-9a4a-5983d5b5268f')\"\n",
              "            title=\"Convert this dataframe to an interactive table.\"\n",
              "            style=\"display:none;\">\n",
              "\n",
              "  <svg xmlns=\"http://www.w3.org/2000/svg\" height=\"24px\" viewBox=\"0 -960 960 960\">\n",
              "    <path d=\"M120-120v-720h720v720H120Zm60-500h600v-160H180v160Zm220 220h160v-160H400v160Zm0 220h160v-160H400v160ZM180-400h160v-160H180v160Zm440 0h160v-160H620v160ZM180-180h160v-160H180v160Zm440 0h160v-160H620v160Z\"/>\n",
              "  </svg>\n",
              "    </button>\n",
              "\n",
              "  <style>\n",
              "    .colab-df-container {\n",
              "      display:flex;\n",
              "      gap: 12px;\n",
              "    }\n",
              "\n",
              "    .colab-df-convert {\n",
              "      background-color: #E8F0FE;\n",
              "      border: none;\n",
              "      border-radius: 50%;\n",
              "      cursor: pointer;\n",
              "      display: none;\n",
              "      fill: #1967D2;\n",
              "      height: 32px;\n",
              "      padding: 0 0 0 0;\n",
              "      width: 32px;\n",
              "    }\n",
              "\n",
              "    .colab-df-convert:hover {\n",
              "      background-color: #E2EBFA;\n",
              "      box-shadow: 0px 1px 2px rgba(60, 64, 67, 0.3), 0px 1px 3px 1px rgba(60, 64, 67, 0.15);\n",
              "      fill: #174EA6;\n",
              "    }\n",
              "\n",
              "    .colab-df-buttons div {\n",
              "      margin-bottom: 4px;\n",
              "    }\n",
              "\n",
              "    [theme=dark] .colab-df-convert {\n",
              "      background-color: #3B4455;\n",
              "      fill: #D2E3FC;\n",
              "    }\n",
              "\n",
              "    [theme=dark] .colab-df-convert:hover {\n",
              "      background-color: #434B5C;\n",
              "      box-shadow: 0px 1px 3px 1px rgba(0, 0, 0, 0.15);\n",
              "      filter: drop-shadow(0px 1px 2px rgba(0, 0, 0, 0.3));\n",
              "      fill: #FFFFFF;\n",
              "    }\n",
              "  </style>\n",
              "\n",
              "    <script>\n",
              "      const buttonEl =\n",
              "        document.querySelector('#df-11f67ea8-6437-4f91-9a4a-5983d5b5268f button.colab-df-convert');\n",
              "      buttonEl.style.display =\n",
              "        google.colab.kernel.accessAllowed ? 'block' : 'none';\n",
              "\n",
              "      async function convertToInteractive(key) {\n",
              "        const element = document.querySelector('#df-11f67ea8-6437-4f91-9a4a-5983d5b5268f');\n",
              "        const dataTable =\n",
              "          await google.colab.kernel.invokeFunction('convertToInteractive',\n",
              "                                                    [key], {});\n",
              "        if (!dataTable) return;\n",
              "\n",
              "        const docLinkHtml = 'Like what you see? Visit the ' +\n",
              "          '<a target=\"_blank\" href=https://colab.research.google.com/notebooks/data_table.ipynb>data table notebook</a>'\n",
              "          + ' to learn more about interactive tables.';\n",
              "        element.innerHTML = '';\n",
              "        dataTable['output_type'] = 'display_data';\n",
              "        await google.colab.output.renderOutput(dataTable, element);\n",
              "        const docLink = document.createElement('div');\n",
              "        docLink.innerHTML = docLinkHtml;\n",
              "        element.appendChild(docLink);\n",
              "      }\n",
              "    </script>\n",
              "  </div>\n",
              "\n",
              "\n",
              "<div id=\"df-46202843-bc37-46a0-885e-fe6d9225d423\">\n",
              "  <button class=\"colab-df-quickchart\" onclick=\"quickchart('df-46202843-bc37-46a0-885e-fe6d9225d423')\"\n",
              "            title=\"Suggest charts\"\n",
              "            style=\"display:none;\">\n",
              "\n",
              "<svg xmlns=\"http://www.w3.org/2000/svg\" height=\"24px\"viewBox=\"0 0 24 24\"\n",
              "     width=\"24px\">\n",
              "    <g>\n",
              "        <path d=\"M19 3H5c-1.1 0-2 .9-2 2v14c0 1.1.9 2 2 2h14c1.1 0 2-.9 2-2V5c0-1.1-.9-2-2-2zM9 17H7v-7h2v7zm4 0h-2V7h2v10zm4 0h-2v-4h2v4z\"/>\n",
              "    </g>\n",
              "</svg>\n",
              "  </button>\n",
              "\n",
              "<style>\n",
              "  .colab-df-quickchart {\n",
              "      --bg-color: #E8F0FE;\n",
              "      --fill-color: #1967D2;\n",
              "      --hover-bg-color: #E2EBFA;\n",
              "      --hover-fill-color: #174EA6;\n",
              "      --disabled-fill-color: #AAA;\n",
              "      --disabled-bg-color: #DDD;\n",
              "  }\n",
              "\n",
              "  [theme=dark] .colab-df-quickchart {\n",
              "      --bg-color: #3B4455;\n",
              "      --fill-color: #D2E3FC;\n",
              "      --hover-bg-color: #434B5C;\n",
              "      --hover-fill-color: #FFFFFF;\n",
              "      --disabled-bg-color: #3B4455;\n",
              "      --disabled-fill-color: #666;\n",
              "  }\n",
              "\n",
              "  .colab-df-quickchart {\n",
              "    background-color: var(--bg-color);\n",
              "    border: none;\n",
              "    border-radius: 50%;\n",
              "    cursor: pointer;\n",
              "    display: none;\n",
              "    fill: var(--fill-color);\n",
              "    height: 32px;\n",
              "    padding: 0;\n",
              "    width: 32px;\n",
              "  }\n",
              "\n",
              "  .colab-df-quickchart:hover {\n",
              "    background-color: var(--hover-bg-color);\n",
              "    box-shadow: 0 1px 2px rgba(60, 64, 67, 0.3), 0 1px 3px 1px rgba(60, 64, 67, 0.15);\n",
              "    fill: var(--button-hover-fill-color);\n",
              "  }\n",
              "\n",
              "  .colab-df-quickchart-complete:disabled,\n",
              "  .colab-df-quickchart-complete:disabled:hover {\n",
              "    background-color: var(--disabled-bg-color);\n",
              "    fill: var(--disabled-fill-color);\n",
              "    box-shadow: none;\n",
              "  }\n",
              "\n",
              "  .colab-df-spinner {\n",
              "    border: 2px solid var(--fill-color);\n",
              "    border-color: transparent;\n",
              "    border-bottom-color: var(--fill-color);\n",
              "    animation:\n",
              "      spin 1s steps(1) infinite;\n",
              "  }\n",
              "\n",
              "  @keyframes spin {\n",
              "    0% {\n",
              "      border-color: transparent;\n",
              "      border-bottom-color: var(--fill-color);\n",
              "      border-left-color: var(--fill-color);\n",
              "    }\n",
              "    20% {\n",
              "      border-color: transparent;\n",
              "      border-left-color: var(--fill-color);\n",
              "      border-top-color: var(--fill-color);\n",
              "    }\n",
              "    30% {\n",
              "      border-color: transparent;\n",
              "      border-left-color: var(--fill-color);\n",
              "      border-top-color: var(--fill-color);\n",
              "      border-right-color: var(--fill-color);\n",
              "    }\n",
              "    40% {\n",
              "      border-color: transparent;\n",
              "      border-right-color: var(--fill-color);\n",
              "      border-top-color: var(--fill-color);\n",
              "    }\n",
              "    60% {\n",
              "      border-color: transparent;\n",
              "      border-right-color: var(--fill-color);\n",
              "    }\n",
              "    80% {\n",
              "      border-color: transparent;\n",
              "      border-right-color: var(--fill-color);\n",
              "      border-bottom-color: var(--fill-color);\n",
              "    }\n",
              "    90% {\n",
              "      border-color: transparent;\n",
              "      border-bottom-color: var(--fill-color);\n",
              "    }\n",
              "  }\n",
              "</style>\n",
              "\n",
              "  <script>\n",
              "    async function quickchart(key) {\n",
              "      const quickchartButtonEl =\n",
              "        document.querySelector('#' + key + ' button');\n",
              "      quickchartButtonEl.disabled = true;  // To prevent multiple clicks.\n",
              "      quickchartButtonEl.classList.add('colab-df-spinner');\n",
              "      try {\n",
              "        const charts = await google.colab.kernel.invokeFunction(\n",
              "            'suggestCharts', [key], {});\n",
              "      } catch (error) {\n",
              "        console.error('Error during call to suggestCharts:', error);\n",
              "      }\n",
              "      quickchartButtonEl.classList.remove('colab-df-spinner');\n",
              "      quickchartButtonEl.classList.add('colab-df-quickchart-complete');\n",
              "    }\n",
              "    (() => {\n",
              "      let quickchartButtonEl =\n",
              "        document.querySelector('#df-46202843-bc37-46a0-885e-fe6d9225d423 button');\n",
              "      quickchartButtonEl.style.display =\n",
              "        google.colab.kernel.accessAllowed ? 'block' : 'none';\n",
              "    })();\n",
              "  </script>\n",
              "</div>\n",
              "\n",
              "    </div>\n",
              "  </div>\n"
            ],
            "application/vnd.google.colaboratory.intrinsic+json": {
              "type": "dataframe",
              "variable_name": "corpus_df",
              "summary": "{\n  \"name\": \"corpus_df\",\n  \"rows\": 5183,\n  \"fields\": [\n    {\n      \"column\": \"doc_id\",\n      \"properties\": {\n        \"dtype\": \"number\",\n        \"std\": 19203132,\n        \"min\": 4983,\n        \"max\": 198309074,\n        \"num_unique_values\": 5183,\n        \"samples\": [\n          39462488,\n          7975937,\n          2211868\n        ],\n        \"semantic_type\": \"\",\n        \"description\": \"\"\n      }\n    },\n    {\n      \"column\": \"title\",\n      \"properties\": {\n        \"dtype\": \"string\",\n        \"num_unique_values\": 5181,\n        \"samples\": [\n          \"Direct reprogramming of fibroblasts into neural stem cells by defined factors.\",\n          \"Passive Surveillance for I. scapularis Ticks: Enhanced Analysis for Early Detection of Emerging Lyme Disease Risk\",\n          \"Epidemiological expansion, structural studies, and clinical challenges of new \\u03b2-lactamases from gram-negative bacteria.\"\n        ],\n        \"semantic_type\": \"\",\n        \"description\": \"\"\n      }\n    },\n    {\n      \"column\": \"abstract\",\n      \"properties\": {\n        \"dtype\": \"object\",\n        \"semantic_type\": \"\",\n        \"description\": \"\"\n      }\n    },\n    {\n      \"column\": \"structured\",\n      \"properties\": {\n        \"dtype\": \"boolean\",\n        \"num_unique_values\": 2,\n        \"samples\": [\n          true,\n          false\n        ],\n        \"semantic_type\": \"\",\n        \"description\": \"\"\n      }\n    }\n  ]\n}"
            }
          },
          "metadata": {},
          "execution_count": 14
        }
      ],
      "source": [
        "# Load the corpus into a dataframe\n",
        "corpus_df = pd.read_json(f'data/scifact_corpus.jsonl', lines=True)\n",
        "corpus_df.head()"
      ]
    },
    {
      "cell_type": "markdown",
      "metadata": {
        "id": "xDGsfUcDSNJT"
      },
      "source": [
        "## Loading the corpus into Chroma\n",
        "\n",
        "The next step is to load the corpus into Chroma. Given an embedding function, Chroma will automatically handle embedding each document, and will store it alongside its text and metadata, making it simple to query."
      ]
    },
    {
      "cell_type": "markdown",
      "metadata": {
        "id": "6YmGHNQlSNJT"
      },
      "source": [
        "We instantiate a (ephemeral) Chroma client, and create a collection for the SciFact title and abstract corpus.\n",
        "Chroma can also be instantiated in a persisted configuration; learn more at the [Chroma docs](https://docs.trychroma.com/usage-guide?lang=py)."
      ]
    },
    {
      "cell_type": "code",
      "execution_count": 18,
      "metadata": {
        "id": "YDLJf6V-SNJT"
      },
      "outputs": [],
      "source": [
        "import chromadb\n",
        "from chromadb.utils.embedding_functions import OpenAIEmbeddingFunction\n",
        "\n",
        "# We initialize an embedding function, and provide it to the collection.\n",
        "embedding_function = OpenAIEmbeddingFunction(api_key=os.getenv(\"OPENAI_API_KEY\"),dimensions=50)\n",
        "\n",
        "chroma_client = chromadb.Client() # Ephemeral by default\n",
        "scifact_corpus_collection = chroma_client.create_collection(name='scifact_corpus', embedding_function=embedding_function)"
      ]
    },
    {
      "cell_type": "markdown",
      "metadata": {
        "id": "nd50wuX8SNJU"
      },
      "source": [
        "Next we load the corpus into Chroma. Because this data loading is memory intensive, we recommend using a batched loading scheme in batches of 50-1000. For this example it should take just over one minute for the entire corpus. It's being embedded in the background, automatically, using the `embedding_function` we specified earlier."
      ]
    },
    {
      "cell_type": "code",
      "execution_count": 19,
      "metadata": {
        "id": "LExq8FpJSNJU"
      },
      "outputs": [],
      "source": [
        "batch_size = 100\n",
        "\n",
        "for i in range(0, len(corpus_df), batch_size):\n",
        "    batch_df = corpus_df[i:i+batch_size]\n",
        "    scifact_corpus_collection.add(\n",
        "        ids=batch_df['doc_id'].apply(lambda x: str(x)).tolist(), # Chroma takes string IDs.\n",
        "        documents=(batch_df['title'] + '. ' + batch_df['abstract'].apply(lambda x: ' '.join(x))).to_list(), # We concatenate the title and abstract.\n",
        "        metadatas=[{\"structured\": structured} for structured in batch_df['structured'].to_list()] # We also store the metadata, though we don't use it in this example.\n",
        "    )"
      ]
    },
    {
      "cell_type": "markdown",
      "metadata": {
        "id": "_TvhaeUkSNJU"
      },
      "source": [
        "## Retrieving context\n",
        "\n",
        "Next we retrieve documents from the corpus which may be relevant to each claim in our sample. We want to provide these as context to the LLM for evaluating the claims. We retrieve the 3 most relevant documents for each claim, according to the embedding distance."
      ]
    },
    {
      "cell_type": "code",
      "execution_count": 20,
      "metadata": {
        "id": "kZU6jDtJSNJU"
      },
      "outputs": [],
      "source": [
        "claim_query_result = scifact_corpus_collection.query(query_texts=claims, include=['documents', 'distances'], n_results=3)"
      ]
    },
    {
      "cell_type": "markdown",
      "metadata": {
        "id": "boLD1Ga9SNJU"
      },
      "source": [
        "We create a new prompt, this time taking into account the additional context we retrieve from the corpus."
      ]
    },
    {
      "cell_type": "code",
      "execution_count": 21,
      "metadata": {
        "id": "u1YVybAqSNJU"
      },
      "outputs": [],
      "source": [
        "def build_prompt_with_context(claim, context):\n",
        "    return [{'role': 'system', 'content': \"I will ask you to assess whether a particular scientific claim, based on evidence provided. Output only the text 'True' if the claim is true, 'False' if the claim is false, or 'NEE' if there's not enough evidence.\"},\n",
        "            {'role': 'user', 'content': f\"\"\"\"\n",
        "The evidence is the following:\n",
        "\n",
        "{' '.join(context)}\n",
        "\n",
        "Assess the following claim on the basis of the evidence. Output only the text 'True' if the claim is true, 'False' if the claim is false, or 'NEE' if there's not enough evidence. Do not output any other text.\n",
        "\n",
        "Claim:\n",
        "{claim}\n",
        "\n",
        "Assessment:\n",
        "\"\"\"}]\n",
        "\n",
        "\n",
        "def assess_claims_with_context(claims, contexts):\n",
        "    responses = []\n",
        "    # Query the OpenAI API\n",
        "    for claim, context in zip(claims, contexts):\n",
        "        # If no evidence is provided, return NEE\n",
        "        if len(context) == 0:\n",
        "            responses.append('NEE')\n",
        "            continue\n",
        "        response = openai.ChatCompletion.create(\n",
        "            model='gpt-3.5-turbo',\n",
        "            messages=build_prompt_with_context(claim=claim, context=context),\n",
        "            max_tokens=3,\n",
        "        )\n",
        "        # Strip any punctuation or whitespace from the response\n",
        "        responses.append(response.choices[0].message.content.strip('., '))\n",
        "\n",
        "    return responses"
      ]
    },
    {
      "cell_type": "markdown",
      "metadata": {
        "id": "9RvvgF2eSNJU"
      },
      "source": [
        "Then ask the model to evaluate the claims with the retrieved context."
      ]
    },
    {
      "cell_type": "code",
      "execution_count": 22,
      "metadata": {
        "colab": {
          "base_uri": "https://localhost:8080/"
        },
        "id": "bTNKbjBVSNJU",
        "outputId": "5cedb551-ac27-496d-ec0f-1a50ba2c5e51"
      },
      "outputs": [
        {
          "output_type": "stream",
          "name": "stdout",
          "text": [
            "\tGroundtruth\n",
            "\tTrue\tFalse\tNEE\n",
            "True\t22\t4\t12\t\n",
            "False\t1\t3\t6\t\n",
            "NEE\t0\t0\t2\t\n"
          ]
        },
        {
          "output_type": "execute_result",
          "data": {
            "text/plain": [
              "{'True': {'True': 22, 'False': 4, 'NEE': 12},\n",
              " 'False': {'True': 1, 'False': 3, 'NEE': 6},\n",
              " 'NEE': {'True': 0, 'False': 0, 'NEE': 2}}"
            ]
          },
          "metadata": {},
          "execution_count": 22
        }
      ],
      "source": [
        "gpt_with_context_evaluation = assess_claims_with_context(claims, claim_query_result['documents'])\n",
        "confusion_matrix(gpt_with_context_evaluation, groundtruth)"
      ]
    },
    {
      "cell_type": "markdown",
      "metadata": {
        "id": "1lKTxvBKSNJU"
      },
      "source": [
        "## Results\n",
        "\n",
        "We see that the model is a lot less likely to evaluate a False claim as true (2 instances VS 5 previously), but that claims without enough evidence are still often assessed as True or False.\n",
        "\n",
        "Taking a look at the retrieved documents, we see that they are sometimes not relevant to the claim - this causes the model to be confused by the extra information, and it may decide that sufficient evidence is present, even when the information is irrelevant. This happens because we always ask for the 3 'most' relevant documents, but these might not be relevant at all beyond a certain point.  "
      ]
    },
    {
      "cell_type": "markdown",
      "metadata": {
        "id": "yvUTCzaUSNJU"
      },
      "source": [
        "## Filtering context on relevance\n",
        "\n",
        "Along with the documents themselves, Chroma returns a distance score. We can try thresholding on distance, so that fewer irrelevant documents make it into the context we provide the model.\n",
        "\n",
        "If, after filtering on the threshold, no context documents remain, we bypass the model and simply return that there is not enough evidence."
      ]
    },
    {
      "cell_type": "code",
      "execution_count": 23,
      "metadata": {
        "id": "nHa48PlHSNJU"
      },
      "outputs": [],
      "source": [
        "def filter_query_result(query_result, distance_threshold=0.25):\n",
        "# For each query result, retain only the documents whose distance is below the threshold\n",
        "    for ids, docs, distances in zip(query_result['ids'], query_result['documents'], query_result['distances']):\n",
        "        for i in range(len(ids)-1, -1, -1):\n",
        "            if distances[i] > distance_threshold:\n",
        "                ids.pop(i)\n",
        "                docs.pop(i)\n",
        "                distances.pop(i)\n",
        "    return query_result\n"
      ]
    },
    {
      "cell_type": "code",
      "execution_count": 24,
      "metadata": {
        "id": "h02VK4BmSNJU"
      },
      "outputs": [],
      "source": [
        "filtered_claim_query_result = filter_query_result(claim_query_result)"
      ]
    },
    {
      "cell_type": "markdown",
      "metadata": {
        "id": "AfUKRr_OSNJU"
      },
      "source": [
        "Now we assess the claims using this cleaner context."
      ]
    },
    {
      "cell_type": "code",
      "execution_count": 25,
      "metadata": {
        "colab": {
          "base_uri": "https://localhost:8080/"
        },
        "id": "7Dw_sLxiSNJU",
        "outputId": "900f52b8-1c2c-4eb4-ece6-1896a3dcd8f5"
      },
      "outputs": [
        {
          "output_type": "stream",
          "name": "stdout",
          "text": [
            "\tGroundtruth\n",
            "\tTrue\tFalse\tNEE\n",
            "True\t13\t3\t2\t\n",
            "False\t0\t2\t3\t\n",
            "NEE\t10\t2\t15\t\n"
          ]
        },
        {
          "output_type": "execute_result",
          "data": {
            "text/plain": [
              "{'True': {'True': 13, 'False': 3, 'NEE': 2},\n",
              " 'False': {'True': 0, 'False': 2, 'NEE': 3},\n",
              " 'NEE': {'True': 10, 'False': 2, 'NEE': 15}}"
            ]
          },
          "metadata": {},
          "execution_count": 25
        }
      ],
      "source": [
        "gpt_with_filtered_context_evaluation = assess_claims_with_context(claims, filtered_claim_query_result['documents'])\n",
        "confusion_matrix(gpt_with_filtered_context_evaluation, groundtruth)"
      ]
    },
    {
      "cell_type": "markdown",
      "metadata": {
        "id": "VeMI0aAlSNJY"
      },
      "source": [
        "## Results\n",
        "\n",
        "The model now assesses many fewer claims as True or False when there is not enough evidence present. However, it now biases away from certainty. Most claims are now assessed as having not enough evidence, because a large fraction of them are filtered out by the distance threshold. It's possible to tune the distance threshold to find the optimal operating point, but this can be difficult, and is dataset and embedding model dependent."
      ]
    },
    {
      "cell_type": "markdown",
      "metadata": {
        "id": "lmKt7i6iSNJY"
      },
      "source": [
        "# Hypothetical Document Embeddings: Using hallucinations productively\n",
        "\n",
        "We want to be able to retrieve relevant documents, without retrieving less relevant ones which might confuse the model. One way to accomplish this is to improve the retrieval query.\n",
        "\n",
        "Until now, we have queried the dataset using _claims_ which are single sentence statements, while the corpus contains _abstracts_ describing a scientific paper. Intuitively, while these might be related, there are significant differences in their structure and meaning. These differences are encoded by the embedding model, and so influence the distances between the query and the most relevant results.\n",
        "\n",
        "We can overcome this by leveraging the power of LLMs to generate relevant text. While the facts might be hallucinated, the content and structure of the documents the models generate is more similar to the documents in our corpus, than the queries are. This could lead to better queries and hence better results.\n",
        "\n",
        "This approach is called [Hypothetical Document Embeddings (HyDE)](https://arxiv.org/abs/2212.10496), and has been shown to be quite good at the retrieval task. It should help us bring more relevant information into the context, without polluting it.  \n",
        "\n",
        "TL;DR:\n",
        "- you get much better matches when you embed whole abstracts rather than single sentences\n",
        "- but claims are usually single sentences\n",
        "- So HyDE shows that using GPT3 to expand claims into hallucinated abstracts and then searching based on those abstracts works (claims -> abstracts -> results) better than searching directly (claims -> results)"
      ]
    },
    {
      "cell_type": "markdown",
      "metadata": {
        "id": "R7khgPP5SNJY"
      },
      "source": [
        "First, we use in-context examples to prompt the model to generate documents similar to what's in the corpus, for each claim we want to assess."
      ]
    },
    {
      "cell_type": "code",
      "execution_count": 26,
      "metadata": {
        "id": "4QItcLTiSNJZ"
      },
      "outputs": [],
      "source": [
        "def build_hallucination_prompt(claim):\n",
        "    return [{'role': 'system', 'content': \"\"\"I will ask you to write an abstract for a scientific paper which supports or refutes a given claim. It should be written in scientific language, include a title. Output only one abstract, then stop.\n",
        "\n",
        "    An Example:\n",
        "\n",
        "    Claim:\n",
        "    A high microerythrocyte count raises vulnerability to severe anemia in homozygous alpha (+)- thalassemia trait subjects.\n",
        "\n",
        "    Abstract:\n",
        "    BACKGROUND The heritable haemoglobinopathy alpha(+)-thalassaemia is caused by the reduced synthesis of alpha-globin chains that form part of normal adult haemoglobin (Hb). Individuals homozygous for alpha(+)-thalassaemia have microcytosis and an increased erythrocyte count. Alpha(+)-thalassaemia homozygosity confers considerable protection against severe malaria, including severe malarial anaemia (SMA) (Hb concentration < 50 g/l), but does not influence parasite count. We tested the hypothesis that the erythrocyte indices associated with alpha(+)-thalassaemia homozygosity provide a haematological benefit during acute malaria.\n",
        "    METHODS AND FINDINGS Data from children living on the north coast of Papua New Guinea who had participated in a case-control study of the protection afforded by alpha(+)-thalassaemia against severe malaria were reanalysed to assess the genotype-specific reduction in erythrocyte count and Hb levels associated with acute malarial disease. We observed a reduction in median erythrocyte count of approximately 1.5 x 10(12)/l in all children with acute falciparum malaria relative to values in community children (p < 0.001). We developed a simple mathematical model of the linear relationship between Hb concentration and erythrocyte count. This model predicted that children homozygous for alpha(+)-thalassaemia lose less Hb than children of normal genotype for a reduction in erythrocyte count of >1.1 x 10(12)/l as a result of the reduced mean cell Hb in homozygous alpha(+)-thalassaemia. In addition, children homozygous for alpha(+)-thalassaemia require a 10% greater reduction in erythrocyte count than children of normal genotype (p = 0.02) for Hb concentration to fall to 50 g/l, the cutoff for SMA. We estimated that the haematological profile in children homozygous for alpha(+)-thalassaemia reduces the risk of SMA during acute malaria compared to children of normal genotype (relative risk 0.52; 95% confidence interval [CI] 0.24-1.12, p = 0.09).\n",
        "    CONCLUSIONS The increased erythrocyte count and microcytosis in children homozygous for alpha(+)-thalassaemia may contribute substantially to their protection against SMA. A lower concentration of Hb per erythrocyte and a larger population of erythrocytes may be a biologically advantageous strategy against the significant reduction in erythrocyte count that occurs during acute infection with the malaria parasite Plasmodium falciparum. This haematological profile may reduce the risk of anaemia by other Plasmodium species, as well as other causes of anaemia. Other host polymorphisms that induce an increased erythrocyte count and microcytosis may confer a similar advantage.\n",
        "\n",
        "    End of example.\n",
        "\n",
        "    \"\"\"}, {'role': 'user', 'content': f\"\"\"\"\n",
        "    Perform the task for the following claim.\n",
        "\n",
        "    Claim:\n",
        "    {claim}\n",
        "\n",
        "    Abstract:\n",
        "    \"\"\"}]\n",
        "\n",
        "\n",
        "def hallucinate_evidence(claims):\n",
        "    # Query the OpenAI API\n",
        "    responses = []\n",
        "    # Query the OpenAI API\n",
        "    for claim in claims:\n",
        "        response = openai.ChatCompletion.create(\n",
        "            model='gpt-3.5-turbo',\n",
        "            messages=build_hallucination_prompt(claim),\n",
        "        )\n",
        "        responses.append(response.choices[0].message.content)\n",
        "    return responses"
      ]
    },
    {
      "cell_type": "markdown",
      "metadata": {
        "id": "AKzNPji9SNJZ"
      },
      "source": [
        "We hallucinate a document for each claim.\n",
        "\n",
        "*NB: This can take a while, about 30m for 100 claims*. You can reduce the number of claims we want to assess to get results more quickly."
      ]
    },
    {
      "cell_type": "code",
      "execution_count": 27,
      "metadata": {
        "id": "WgxRph9rSNJZ"
      },
      "outputs": [],
      "source": [
        "hallucinated_evidence = hallucinate_evidence(claims)"
      ]
    },
    {
      "cell_type": "markdown",
      "metadata": {
        "id": "tJvCB3FkSNJZ"
      },
      "source": [
        "We use the hallucinated documents as queries into the corpus, and filter the results using the same distance threshold."
      ]
    },
    {
      "cell_type": "code",
      "execution_count": 28,
      "metadata": {
        "id": "Zm8hVk5XSNJZ"
      },
      "outputs": [],
      "source": [
        "hallucinated_query_result = scifact_corpus_collection.query(query_texts=hallucinated_evidence, include=['documents', 'distances'], n_results=3)\n",
        "filtered_hallucinated_query_result = filter_query_result(hallucinated_query_result)"
      ]
    },
    {
      "cell_type": "markdown",
      "metadata": {
        "id": "T7H-oD-cSNJZ"
      },
      "source": [
        "We then ask the model to assess the claims, using the new context."
      ]
    },
    {
      "cell_type": "code",
      "execution_count": 29,
      "metadata": {
        "colab": {
          "base_uri": "https://localhost:8080/"
        },
        "id": "5EekXTFmSNJZ",
        "outputId": "fe96c9cc-3ae8-4271-f898-3e2df14dc062"
      },
      "outputs": [
        {
          "output_type": "stream",
          "name": "stdout",
          "text": [
            "\tGroundtruth\n",
            "\tTrue\tFalse\tNEE\n",
            "True\t19\t3\t11\t\n",
            "False\t2\t4\t4\t\n",
            "NEE\t2\t0\t5\t\n"
          ]
        },
        {
          "output_type": "execute_result",
          "data": {
            "text/plain": [
              "{'True': {'True': 19, 'False': 3, 'NEE': 11},\n",
              " 'False': {'True': 2, 'False': 4, 'NEE': 4},\n",
              " 'NEE': {'True': 2, 'False': 0, 'NEE': 5}}"
            ]
          },
          "metadata": {},
          "execution_count": 29
        }
      ],
      "source": [
        "gpt_with_hallucinated_context_evaluation = assess_claims_with_context(claims, filtered_hallucinated_query_result['documents'])\n",
        "confusion_matrix(gpt_with_hallucinated_context_evaluation, groundtruth)"
      ]
    },
    {
      "cell_type": "markdown",
      "metadata": {
        "id": "zMlao60rSNJZ"
      },
      "source": [
        "## Results\n",
        "\n",
        "Combining HyDE with a simple distance threshold leads to a significant improvement. The model no longer biases assessing claims as True, nor toward their not being enough evidence. It also correctly assesses when there isn't enough evidence more often."
      ]
    },
    {
      "cell_type": "markdown",
      "metadata": {
        "id": "YbVDCJBbSNJZ"
      },
      "source": [
        "# Conclusion\n",
        "\n",
        "Equipping LLMs with a context based on a corpus of documents is a powerful technique for bringing the general reasoning and natural language interactions of LLMs to your own data. However, it's important to know that naive query and retrieval may not produce the best possible results! Ultimately understanding the data will help get the most out of the retrieval based question-answering approach.\n"
      ]
    }
  ],
  "metadata": {
    "kernelspec": {
      "display_name": "Python 3 (ipykernel)",
      "language": "python",
      "name": "python3"
    },
    "language_info": {
      "codemirror_mode": {
        "name": "ipython",
        "version": 3
      },
      "file_extension": ".py",
      "mimetype": "text/x-python",
      "name": "python",
      "nbconvert_exporter": "python",
      "pygments_lexer": "ipython3",
      "version": "3.10.12"
    },
    "vscode": {
      "interpreter": {
        "hash": "fd16a328ca3d68029457069b79cb0b38eb39a0f5ccc4fe4473d3047707df8207"
      }
    },
    "colab": {
      "provenance": [],
      "include_colab_link": true
    }
  },
  "nbformat": 4,
  "nbformat_minor": 0
}